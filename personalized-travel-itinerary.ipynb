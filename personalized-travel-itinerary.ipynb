{
 "cells": [
  {
   "cell_type": "code",
   "execution_count": 1,
   "id": "26249b49",
   "metadata": {
    "_cell_guid": "b1076dfc-b9ad-4769-8c92-a6c4dae69d19",
    "_uuid": "8f2839f25d086af736a60e9eeb907d3b93b6e0e5",
    "execution": {
     "iopub.execute_input": "2025-04-17T20:27:02.177974Z",
     "iopub.status.busy": "2025-04-17T20:27:02.177686Z",
     "iopub.status.idle": "2025-04-17T20:27:12.231301Z",
     "shell.execute_reply": "2025-04-17T20:27:12.230275Z"
    },
    "papermill": {
     "duration": 10.059423,
     "end_time": "2025-04-17T20:27:12.233286",
     "exception": false,
     "start_time": "2025-04-17T20:27:02.173863",
     "status": "completed"
    },
    "tags": []
   },
   "outputs": [
    {
     "name": "stdout",
     "output_type": "stream",
     "text": [
      "\u001b[2K   \u001b[90m━━━━━━━━━━━━━━━━━━━━━━━━━━━━━━━━━━━━━━━━\u001b[0m \u001b[32m144.7/144.7 kB\u001b[0m \u001b[31m4.8 MB/s\u001b[0m eta \u001b[36m0:00:00\u001b[0m\r\n",
      "\u001b[2K   \u001b[90m━━━━━━━━━━━━━━━━━━━━━━━━━━━━━━━━━━━━━━━━\u001b[0m \u001b[32m100.9/100.9 kB\u001b[0m \u001b[31m5.2 MB/s\u001b[0m eta \u001b[36m0:00:00\u001b[0m\r\n",
      "\u001b[?25h\u001b[31mERROR: pip's dependency resolver does not currently take into account all the packages that are installed. This behaviour is the source of the following dependency conflicts.\r\n",
      "jupyterlab-lsp 3.10.2 requires jupyterlab<4.0.0a0,>=3.1.0, which is not installed.\u001b[0m\u001b[31m\r\n",
      "\u001b[0m"
     ]
    },
    {
     "data": {
      "text/plain": [
       "'1.7.0'"
      ]
     },
     "execution_count": 1,
     "metadata": {},
     "output_type": "execute_result"
    }
   ],
   "source": [
    "# ✅ SETUP\n",
    "\n",
    "# Uninstall unnecessary packages and install Google GenAI SDK\n",
    "!pip uninstall -qqy jupyterlab  # Remove unused conflicting packages\n",
    "!pip install -U -q \"google-genai==1.7.0\"\n",
    "\n",
    "\n",
    "\n",
    "# Import the SDK\n",
    "from google import genai\n",
    "from google.genai import types\n",
    "\n",
    "\n",
    "from IPython.display import Markdown\n",
    "\n",
    "# Check version\n",
    "genai.__version__\n"
   ]
  },
  {
   "cell_type": "code",
   "execution_count": 2,
   "id": "670a907f",
   "metadata": {
    "execution": {
     "iopub.execute_input": "2025-04-17T20:27:12.242931Z",
     "iopub.status.busy": "2025-04-17T20:27:12.242376Z",
     "iopub.status.idle": "2025-04-17T20:27:12.827840Z",
     "shell.execute_reply": "2025-04-17T20:27:12.826839Z"
    },
    "papermill": {
     "duration": 0.5922,
     "end_time": "2025-04-17T20:27:12.829706",
     "exception": false,
     "start_time": "2025-04-17T20:27:12.237506",
     "status": "completed"
    },
    "tags": []
   },
   "outputs": [],
   "source": [
    "# ✅ API KEY SETUP\n",
    "\n",
    "# Set up your API key stored in Kaggle Secrets\n",
    "from kaggle_secrets import UserSecretsClient\n",
    "\n",
    "GOOGLE_API_KEY = UserSecretsClient().get_secret(\"GOOGLE_API_KEY\")\n",
    "\n",
    "client = genai.Client(api_key=GOOGLE_API_KEY)\n"
   ]
  },
  {
   "cell_type": "code",
   "execution_count": 3,
   "id": "603fbdf2",
   "metadata": {
    "execution": {
     "iopub.execute_input": "2025-04-17T20:27:12.835735Z",
     "iopub.status.busy": "2025-04-17T20:27:12.835077Z",
     "iopub.status.idle": "2025-04-17T20:27:12.944724Z",
     "shell.execute_reply": "2025-04-17T20:27:12.943610Z"
    },
    "papermill": {
     "duration": 0.114321,
     "end_time": "2025-04-17T20:27:12.946385",
     "exception": false,
     "start_time": "2025-04-17T20:27:12.832064",
     "status": "completed"
    },
    "tags": []
   },
   "outputs": [
    {
     "name": "stdout",
     "output_type": "stream",
     "text": [
      "models/gemini-1.5-flash-001-tuning\n"
     ]
    }
   ],
   "source": [
    "# ✅ CHECK SUPPORTED MODELS\n",
    "\n",
    "# Explore models that support tuning (for future custom model training)\n",
    "for model in client.models.list():\n",
    "    if \"createTunedModel\" in model.supported_actions:\n",
    "        print(model.name)\n",
    "\n"
   ]
  },
  {
   "cell_type": "code",
   "execution_count": 4,
   "id": "0909160d",
   "metadata": {
    "execution": {
     "iopub.execute_input": "2025-04-17T20:27:12.952904Z",
     "iopub.status.busy": "2025-04-17T20:27:12.952298Z",
     "iopub.status.idle": "2025-04-17T20:27:19.493431Z",
     "shell.execute_reply": "2025-04-17T20:27:19.492452Z"
    },
    "papermill": {
     "duration": 6.546361,
     "end_time": "2025-04-17T20:27:19.495264",
     "exception": false,
     "start_time": "2025-04-17T20:27:12.948903",
     "status": "completed"
    },
    "tags": []
   },
   "outputs": [],
   "source": [
    "# ✅ PROMPT: Personalized Travel Itinerary\n",
    "\n",
    "client = genai.Client(api_key=GOOGLE_API_KEY)\n",
    "\n",
    "\n",
    "prompt = \"\"\"\n",
    "You are a smart travel assistant specialized in creating personalized travel plans for tourists in Sri Lanka.\n",
    "\n",
    "User Input:\n",
    "- Duration: 3 days\n",
    "- Preferences: Nature, Hiking, Waterfalls\n",
    "- Region: Central Province (Kandy, Nuwara Eliya)\n",
    "\n",
    "Requirements:\n",
    "1. Generate a 3-day travel itinerary\n",
    "\n",
    "2. Each day should have:\n",
    "   - title\n",
    "   - description\n",
    "   - list of activities\n",
    "   - travel tips\n",
    "\n",
    "Return only the JSON without explanation.\n",
    "\n",
    "Please respond with a JSON in this exact format:\n",
    "\n",
    "{\n",
    "  \"tripName\": \"string\",\n",
    "  \"region\": \"string\",\n",
    "  \"duration\": \"string\",\n",
    "  \"theme\": \"string\",  // comma-separated\n",
    "  \"itinerary\": [\n",
    "    {\n",
    "      \"day\": 1,\n",
    "      \"title\": \"string\",\n",
    "      \"description\": \"string\",\n",
    "      \"activities\": [\n",
    "        {\n",
    "          \"name\": \"string\",\n",
    "          \"duration\": \"string\",\n",
    "          \"details\": \"string\"\n",
    "        }\n",
    "      ],\n",
    "      \"travelTips\": [\"string\"]\n",
    "    }\n",
    "  ]\n",
    "}\n",
    "\n",
    "\"\"\"\n",
    "\n",
    "high_temp_config = types.GenerateContentConfig(temperature=2.0)\n",
    "\n",
    "response = client.models.generate_content(\n",
    "    model=\"gemini-2.0-flash\",\n",
    "    config=high_temp_config,\n",
    "    contents=prompt)\n",
    "\n",
    "\n",
    "\n",
    "\n"
   ]
  },
  {
   "cell_type": "code",
   "execution_count": 5,
   "id": "be6bb19a",
   "metadata": {
    "execution": {
     "iopub.execute_input": "2025-04-17T20:27:19.502570Z",
     "iopub.status.busy": "2025-04-17T20:27:19.502242Z",
     "iopub.status.idle": "2025-04-17T20:27:19.551402Z",
     "shell.execute_reply": "2025-04-17T20:27:19.550588Z"
    },
    "papermill": {
     "duration": 0.05551,
     "end_time": "2025-04-17T20:27:19.553224",
     "exception": false,
     "start_time": "2025-04-17T20:27:19.497714",
     "status": "completed"
    },
    "tags": []
   },
   "outputs": [
    {
     "data": {
      "text/markdown": [
       "# 🌍 Central Sri Lanka Nature Escape"
      ],
      "text/plain": [
       "<IPython.core.display.Markdown object>"
      ]
     },
     "metadata": {},
     "output_type": "display_data"
    },
    {
     "data": {
      "text/markdown": [
       "**Duration:** 3 days  \n",
       "**Region:** Central Province  \n",
       "**Theme:** Nature, Hiking, Waterfalls"
      ],
      "text/plain": [
       "<IPython.core.display.Markdown object>"
      ]
     },
     "metadata": {},
     "output_type": "display_data"
    },
    {
     "data": {
      "text/markdown": [
       "---\n",
       "## 🗓️ Kandy's Cultural & Natural Beauty"
      ],
      "text/plain": [
       "<IPython.core.display.Markdown object>"
      ]
     },
     "metadata": {},
     "output_type": "display_data"
    },
    {
     "data": {
      "text/markdown": [
       "**Description:** Explore Kandy's highlights, blending cultural sites with scenic viewpoints and refreshing waterfalls."
      ],
      "text/plain": [
       "<IPython.core.display.Markdown object>"
      ]
     },
     "metadata": {},
     "output_type": "display_data"
    },
    {
     "data": {
      "text/markdown": [
       "### ✅ Activities"
      ],
      "text/plain": [
       "<IPython.core.display.Markdown object>"
      ]
     },
     "metadata": {},
     "output_type": "display_data"
    },
    {
     "data": {
      "text/markdown": [
       "- **Temple of the Tooth Relic** (, *2 hours*)  \n",
       "  Visit the sacred Temple of the Tooth, a UNESCO World Heritage Site, and witness a traditional ceremony."
      ],
      "text/plain": [
       "<IPython.core.display.Markdown object>"
      ]
     },
     "metadata": {},
     "output_type": "display_data"
    },
    {
     "data": {
      "text/markdown": [
       "- **Kandy Lake Walk** (, *1 hour*)  \n",
       "  Enjoy a leisurely walk around the scenic Kandy Lake."
      ],
      "text/plain": [
       "<IPython.core.display.Markdown object>"
      ]
     },
     "metadata": {},
     "output_type": "display_data"
    },
    {
     "data": {
      "text/markdown": [
       "- **Bahirawakanda Vihara Buddha Statue** (, *1 hour*)  \n",
       "  Ascend to the Bahirawakanda Vihara for panoramic views of Kandy and visit the giant Buddha statue."
      ],
      "text/plain": [
       "<IPython.core.display.Markdown object>"
      ]
     },
     "metadata": {},
     "output_type": "display_data"
    },
    {
     "data": {
      "text/markdown": [
       "- **Hanthana Mountain Range Hike (Short)** (, *3 hours*)  \n",
       "  Embark on a short, guided hike in the Hanthana Mountain Range for breathtaking views of Kandy and surrounding landscapes."
      ],
      "text/plain": [
       "<IPython.core.display.Markdown object>"
      ]
     },
     "metadata": {},
     "output_type": "display_data"
    },
    {
     "data": {
      "text/markdown": [
       "### 💡 Travel Tips"
      ],
      "text/plain": [
       "<IPython.core.display.Markdown object>"
      ]
     },
     "metadata": {},
     "output_type": "display_data"
    },
    {
     "data": {
      "text/markdown": [
       "- Dress modestly when visiting temples (shoulders and knees covered).\n",
       "- Remove shoes before entering temples.\n",
       "- Hire a tuk-tuk or taxi for easy transportation within Kandy.\n",
       "- Bring comfortable walking shoes for the lake walk and the hike."
      ],
      "text/plain": [
       "<IPython.core.display.Markdown object>"
      ]
     },
     "metadata": {},
     "output_type": "display_data"
    },
    {
     "data": {
      "text/markdown": [
       "---\n",
       "## 🗓️ Nuwara Eliya's Tea Plantations & Waterfalls"
      ],
      "text/plain": [
       "<IPython.core.display.Markdown object>"
      ]
     },
     "metadata": {},
     "output_type": "display_data"
    },
    {
     "data": {
      "text/markdown": [
       "**Description:** Journey to Nuwara Eliya, exploring tea plantations, cascading waterfalls, and colonial charm."
      ],
      "text/plain": [
       "<IPython.core.display.Markdown object>"
      ]
     },
     "metadata": {},
     "output_type": "display_data"
    },
    {
     "data": {
      "text/markdown": [
       "### ✅ Activities"
      ],
      "text/plain": [
       "<IPython.core.display.Markdown object>"
      ]
     },
     "metadata": {},
     "output_type": "display_data"
    },
    {
     "data": {
      "text/markdown": [
       "- **Train Journey to Nuwara Eliya** (, *3-4 hours*)  \n",
       "  Enjoy a scenic train ride from Kandy to Nanu Oya (Nuwara Eliya). Arguably one of the most beautiful train rides in the world."
      ],
      "text/plain": [
       "<IPython.core.display.Markdown object>"
      ]
     },
     "metadata": {},
     "output_type": "display_data"
    },
    {
     "data": {
      "text/markdown": [
       "- **Pedro Tea Estate** (, *2 hours*)  \n",
       "  Visit the Pedro Tea Estate to learn about the tea-making process and enjoy a tea tasting session."
      ],
      "text/plain": [
       "<IPython.core.display.Markdown object>"
      ]
     },
     "metadata": {},
     "output_type": "display_data"
    },
    {
     "data": {
      "text/markdown": [
       "- **Lover's Leap Waterfall** (, *2 hours*)  \n",
       "  Hike to the Lover's Leap Waterfall for stunning views and a refreshing dip (optional)."
      ],
      "text/plain": [
       "<IPython.core.display.Markdown object>"
      ]
     },
     "metadata": {},
     "output_type": "display_data"
    },
    {
     "data": {
      "text/markdown": [
       "- **Gregory Lake** (, *1-2 hours*)  \n",
       "  Relax by Gregory Lake, rent a boat, or enjoy a picnic."
      ],
      "text/plain": [
       "<IPython.core.display.Markdown object>"
      ]
     },
     "metadata": {},
     "output_type": "display_data"
    },
    {
     "data": {
      "text/markdown": [
       "### 💡 Travel Tips"
      ],
      "text/plain": [
       "<IPython.core.display.Markdown object>"
      ]
     },
     "metadata": {},
     "output_type": "display_data"
    },
    {
     "data": {
      "text/markdown": [
       "- Book train tickets in advance, especially during peak season.\n",
       "- The weather in Nuwara Eliya can be cool; bring warm clothes.\n",
       "- Check the condition and suitability of hiking trails before embarking.\n",
       "- Consider hiring a guide for the Lover's Leap hike."
      ],
      "text/plain": [
       "<IPython.core.display.Markdown object>"
      ]
     },
     "metadata": {},
     "output_type": "display_data"
    },
    {
     "data": {
      "text/markdown": [
       "---\n",
       "## 🗓️ Horton Plains National Park"
      ],
      "text/plain": [
       "<IPython.core.display.Markdown object>"
      ]
     },
     "metadata": {},
     "output_type": "display_data"
    },
    {
     "data": {
      "text/markdown": [
       "**Description:** Explore the Horton Plains National Park to witness breathtaking views and wildlife."
      ],
      "text/plain": [
       "<IPython.core.display.Markdown object>"
      ]
     },
     "metadata": {},
     "output_type": "display_data"
    },
    {
     "data": {
      "text/markdown": [
       "### ✅ Activities"
      ],
      "text/plain": [
       "<IPython.core.display.Markdown object>"
      ]
     },
     "metadata": {},
     "output_type": "display_data"
    },
    {
     "data": {
      "text/markdown": [
       "- **Horton Plains National Park Trek** (, *4-5 hours*)  \n",
       "  Hike to World's End viewpoint and Baker's Falls within Horton Plains National Park. Start early in the morning (ideally by 6 AM) to avoid fog."
      ],
      "text/plain": [
       "<IPython.core.display.Markdown object>"
      ]
     },
     "metadata": {},
     "output_type": "display_data"
    },
    {
     "data": {
      "text/markdown": [
       "- **Bakers Falls** (, *1 hour*)  \n",
       "  Visit Baker's falls at Horton Plains."
      ],
      "text/plain": [
       "<IPython.core.display.Markdown object>"
      ]
     },
     "metadata": {},
     "output_type": "display_data"
    },
    {
     "data": {
      "text/markdown": [
       "- **World's End** (, *30 min*)  \n",
       "  Enjoy the panaromic views at the world's end at Horton Plains."
      ],
      "text/plain": [
       "<IPython.core.display.Markdown object>"
      ]
     },
     "metadata": {},
     "output_type": "display_data"
    },
    {
     "data": {
      "text/markdown": [
       "- **Return to Kandy/Departure** (, *Variable*)  \n",
       "  Return to Kandy (or onward travel) in the late afternoon."
      ],
      "text/plain": [
       "<IPython.core.display.Markdown object>"
      ]
     },
     "metadata": {},
     "output_type": "display_data"
    },
    {
     "data": {
      "text/markdown": [
       "### 💡 Travel Tips"
      ],
      "text/plain": [
       "<IPython.core.display.Markdown object>"
      ]
     },
     "metadata": {},
     "output_type": "display_data"
    },
    {
     "data": {
      "text/markdown": [
       "- Wear comfortable hiking shoes and layers of clothing, as the weather in Horton Plains can change quickly.\n",
       "- Bring water and snacks, as there are limited facilities within the park.\n",
       "- Entry fees for Horton Plains are required and can be purchased at the entrance or pre-booked through some tour operators.\n",
       "- Be aware of wildlife, including sambar deer and endemic birds."
      ],
      "text/plain": [
       "<IPython.core.display.Markdown object>"
      ]
     },
     "metadata": {},
     "output_type": "display_data"
    }
   ],
   "source": [
    "import json\n",
    "from IPython.display import Markdown, display\n",
    "\n",
    "# Step 1: Clean and Parse the JSON\n",
    "raw = response.text.strip()\n",
    "\n",
    "# If it's wrapped with triple backticks, remove them\n",
    "if raw.startswith(\"```json\"):\n",
    "    raw = raw.replace(\"```json\", \"\").replace(\"```\", \"\").strip()\n",
    "\n",
    "# Attempt to parse the JSON response\n",
    "try:\n",
    "    data = json.loads(raw)\n",
    "except json.JSONDecodeError as e:\n",
    "    print(\"❌ JSON Decode Error:\", e)\n",
    "    print(\"Raw response:\", raw)\n",
    "    raise\n",
    "\n",
    "# Step 2: Display Trip Overview\n",
    "trip_title = data.get('tripName') or data.get('title', 'Untitled Trip')\n",
    "duration = data.get('duration', 'N/A')\n",
    "region = data.get('region', 'N/A')\n",
    "theme = data.get('theme') or \", \".join(data.get('preferences', []))\n",
    "\n",
    "display(Markdown(f\"# 🌍 {trip_title}\"))\n",
    "display(Markdown(f\"**Duration:** {duration}  \\n**Region:** {region}  \\n**Theme:** {theme}\"))\n",
    "\n",
    "# Step 3: Loop through each day and display info\n",
    "days = data.get('itinerary') or data.get('days', [])\n",
    "for idx, day in enumerate(days, start=1):\n",
    "    day_title = day.get('title', f'Day {idx}')\n",
    "    day_desc = day.get('description', '')\n",
    "\n",
    "    display(Markdown(f\"---\\n## 🗓️ {day_title}\"))\n",
    "    display(Markdown(f\"**Description:** {day_desc}\"))\n",
    "\n",
    "    # Activities\n",
    "    activities = day.get('activities', [])\n",
    "    if activities:\n",
    "        display(Markdown(\"### ✅ Activities\"))\n",
    "        for act in activities:\n",
    "            act_name = act.get('name', 'Unnamed Activity')\n",
    "            act_duration = act.get('duration', 'N/A')\n",
    "            act_description = act.get('description') or act.get('details', '')\n",
    "            act_time = act.get('time', '')\n",
    "            activity_md = f\"- **{act_name}** ({act_time}, *{act_duration}*)  \\n  {act_description}\"\n",
    "            display(Markdown(activity_md))\n",
    "\n",
    "    # Travel Tips\n",
    "    tips = day.get('travelTips') or day.get('travel_tips', [])\n",
    "    if tips:\n",
    "        tips_md = \"\\n\".join([f\"- {tip}\" for tip in tips])\n",
    "        display(Markdown(\"### 💡 Travel Tips\"))\n",
    "        display(Markdown(tips_md))\n"
   ]
  }
 ],
 "metadata": {
  "kaggle": {
   "accelerator": "none",
   "dataSources": [],
   "dockerImageVersionId": 31012,
   "isGpuEnabled": false,
   "isInternetEnabled": true,
   "language": "python",
   "sourceType": "notebook"
  },
  "kernelspec": {
   "display_name": "Python 3",
   "language": "python",
   "name": "python3"
  },
  "language_info": {
   "codemirror_mode": {
    "name": "ipython",
    "version": 3
   },
   "file_extension": ".py",
   "mimetype": "text/x-python",
   "name": "python",
   "nbconvert_exporter": "python",
   "pygments_lexer": "ipython3",
   "version": "3.11.11"
  },
  "papermill": {
   "default_parameters": {},
   "duration": 22.852736,
   "end_time": "2025-04-17T20:27:20.178658",
   "environment_variables": {},
   "exception": null,
   "input_path": "__notebook__.ipynb",
   "output_path": "__notebook__.ipynb",
   "parameters": {},
   "start_time": "2025-04-17T20:26:57.325922",
   "version": "2.6.0"
  }
 },
 "nbformat": 4,
 "nbformat_minor": 5
}
