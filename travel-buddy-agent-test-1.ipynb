{
 "cells": [
  {
   "cell_type": "code",
   "execution_count": 1,
   "id": "56b765f5",
   "metadata": {
    "_cell_guid": "b1076dfc-b9ad-4769-8c92-a6c4dae69d19",
    "_uuid": "8f2839f25d086af736a60e9eeb907d3b93b6e0e5",
    "execution": {
     "iopub.execute_input": "2025-04-17T20:08:34.592609Z",
     "iopub.status.busy": "2025-04-17T20:08:34.591726Z",
     "iopub.status.idle": "2025-04-17T20:09:11.788099Z",
     "shell.execute_reply": "2025-04-17T20:09:11.786934Z"
    },
    "papermill": {
     "duration": 37.203239,
     "end_time": "2025-04-17T20:09:11.790118",
     "exception": false,
     "start_time": "2025-04-17T20:08:34.586879",
     "status": "completed"
    },
    "tags": []
   },
   "outputs": [
    {
     "name": "stdout",
     "output_type": "stream",
     "text": [
      "\u001b[33mWARNING: Skipping kfp as it is not installed.\u001b[0m\u001b[33m\r\n",
      "\u001b[2K     \u001b[90m━━━━━━━━━━━━━━━━━━━━━━━━━━━━━━━━━━━━━━━━\u001b[0m \u001b[32m43.5/43.5 kB\u001b[0m \u001b[31m1.3 MB/s\u001b[0m eta \u001b[36m0:00:00\u001b[0m\r\n",
      "\u001b[2K   \u001b[90m━━━━━━━━━━━━━━━━━━━━━━━━━━━━━━━━━━━━━━━━\u001b[0m \u001b[32m138.0/138.0 kB\u001b[0m \u001b[31m4.5 MB/s\u001b[0m eta \u001b[36m0:00:00\u001b[0m\r\n",
      "\u001b[2K   \u001b[90m━━━━━━━━━━━━━━━━━━━━━━━━━━━━━━━━━━━━━━━━\u001b[0m \u001b[32m42.0/42.0 kB\u001b[0m \u001b[31m1.6 MB/s\u001b[0m eta \u001b[36m0:00:00\u001b[0m\r\n",
      "\u001b[2K   \u001b[90m━━━━━━━━━━━━━━━━━━━━━━━━━━━━━━━━━━━━━━━━\u001b[0m \u001b[32m1.4/1.4 MB\u001b[0m \u001b[31m26.8 MB/s\u001b[0m eta \u001b[36m0:00:00\u001b[0m\r\n",
      "\u001b[2K   \u001b[90m━━━━━━━━━━━━━━━━━━━━━━━━━━━━━━━━━━━━━━━━\u001b[0m \u001b[32m433.9/433.9 kB\u001b[0m \u001b[31m18.5 MB/s\u001b[0m eta \u001b[36m0:00:00\u001b[0m\r\n",
      "\u001b[2K   \u001b[90m━━━━━━━━━━━━━━━━━━━━━━━━━━━━━━━━━━━━━━━━\u001b[0m \u001b[32m42.0/42.0 kB\u001b[0m \u001b[31m1.9 MB/s\u001b[0m eta \u001b[36m0:00:00\u001b[0m\r\n",
      "\u001b[2K   \u001b[90m━━━━━━━━━━━━━━━━━━━━━━━━━━━━━━━━━━━━━━━━\u001b[0m \u001b[32m47.2/47.2 kB\u001b[0m \u001b[31m1.3 MB/s\u001b[0m eta \u001b[36m0:00:00\u001b[0m\r\n",
      "\u001b[2K   \u001b[90m━━━━━━━━━━━━━━━━━━━━━━━━━━━━━━━━━━━━━━━━\u001b[0m \u001b[32m223.6/223.6 kB\u001b[0m \u001b[31m8.8 MB/s\u001b[0m eta \u001b[36m0:00:00\u001b[0m\r\n",
      "\u001b[?25h"
     ]
    }
   ],
   "source": [
    "# Remove conflicting packages from the Kaggle base environment.\n",
    "!pip uninstall -qqy kfp jupyterlab libpysal thinc spacy fastai ydata-profiling google-cloud-bigquery google-generativeai\n",
    "# Install langgraph and the packages used in this lab.\n",
    "!pip install -qU 'langgraph==0.3.21' 'langchain-google-genai==2.1.2' 'langgraph-prebuilt==0.1.7'"
   ]
  },
  {
   "cell_type": "code",
   "execution_count": 2,
   "id": "b5f103b6",
   "metadata": {
    "execution": {
     "iopub.execute_input": "2025-04-17T20:09:11.799640Z",
     "iopub.status.busy": "2025-04-17T20:09:11.799299Z",
     "iopub.status.idle": "2025-04-17T20:09:11.910592Z",
     "shell.execute_reply": "2025-04-17T20:09:11.909723Z"
    },
    "papermill": {
     "duration": 0.118045,
     "end_time": "2025-04-17T20:09:11.912360",
     "exception": false,
     "start_time": "2025-04-17T20:09:11.794315",
     "status": "completed"
    },
    "tags": []
   },
   "outputs": [],
   "source": [
    "import os\n",
    "from kaggle_secrets import UserSecretsClient\n",
    "\n",
    "from IPython.display import Markdown\n",
    "\n",
    "GOOGLE_API_KEY = UserSecretsClient().get_secret(\"GOOGLE_API_KEY\")\n",
    "os.environ[\"GOOGLE_API_KEY\"] = GOOGLE_API_KEY"
   ]
  },
  {
   "cell_type": "code",
   "execution_count": 3,
   "id": "3009a8c0",
   "metadata": {
    "execution": {
     "iopub.execute_input": "2025-04-17T20:09:11.922095Z",
     "iopub.status.busy": "2025-04-17T20:09:11.921247Z",
     "iopub.status.idle": "2025-04-17T20:09:13.486525Z",
     "shell.execute_reply": "2025-04-17T20:09:13.485591Z"
    },
    "papermill": {
     "duration": 1.571921,
     "end_time": "2025-04-17T20:09:13.488241",
     "exception": false,
     "start_time": "2025-04-17T20:09:11.916320",
     "status": "completed"
    },
    "tags": []
   },
   "outputs": [],
   "source": [
    "from typing import Annotated\n",
    "from typing_extensions import TypedDict\n",
    "\n",
    "from langgraph.graph.message import add_messages\n",
    "\n",
    "class TravelBookingState(TypedDict):\n",
    "    \"\"\"State representing the user's travel booking conversation.\"\"\"\n",
    "\n",
    "    # The chat conversation. This preserves the conversation history\n",
    "    # between nodes.\n",
    "    messages: Annotated[list, add_messages]\n",
    "\n",
    "    # The user's current booking preferences.\n",
    "    booking_request: dict\n",
    "\n",
    "    # Flag indicating that the booking is completed.\n",
    "    finished: bool\n",
    "\n",
    "\n",
    "# System instruction for the Travel Booking Assistant\n",
    "TRAVELBOT_SYSINT = (\n",
    "    \"system\",\n",
    "    \"You are a TravelBookingBot, an intelligent travel assistant for Sri Lanka. A human will talk to you \"\n",
    "    \"about planning trips, and you will help them by recommending, confirming, and simulating bookings. \"\n",
    "    \"The user can request customized travel plans, such as 'Book me a 3-day surf trip in Arugam Bay under $300.' \"\n",
    "    \"\\n\\n\"\n",
    "    \"When the user makes a request:\\n\"\n",
    "    \"- Break it down to identify destination, duration, activity type, and budget.\\n\"\n",
    "    \"- Use retrieve_packages to search available travel options (or dummy data).\\n\"\n",
    "    \"- Match options based on user preferences and present top choices.\\n\"\n",
    "    \"- Confirm the trip details with the user before simulating booking using book_trip.\\n\\n\"\n",
    "    \"You can also clear a request with clear_booking, or retrieve the current status with get_booking_request.\\n\"\n",
    "    \"Be polite, helpful, and focused only on Sri Lankan travel-related questions.\\n\\n\"\n",
    "    \"Once the user confirms, simulate the booking using book_trip, thank them, and finish the conversation.\\n\"\n",
    "    \"If any functions aren't implemented yet, inform the user they're still under development.\"\n",
    ")\n",
    "\n",
    "# Initial greeting message for the travel assistant\n",
    "WELCOME_MSG = \"Ayubowan! I’m your Sri Lankan Travel Buddy. Type `q` to quit. How can I help you plan your next adventure?\"\n"
   ]
  },
  {
   "cell_type": "code",
   "execution_count": 4,
   "id": "10decd30",
   "metadata": {
    "execution": {
     "iopub.execute_input": "2025-04-17T20:09:13.497059Z",
     "iopub.status.busy": "2025-04-17T20:09:13.496508Z",
     "iopub.status.idle": "2025-04-17T20:09:14.613891Z",
     "shell.execute_reply": "2025-04-17T20:09:14.612927Z"
    },
    "papermill": {
     "duration": 1.123422,
     "end_time": "2025-04-17T20:09:14.615510",
     "exception": false,
     "start_time": "2025-04-17T20:09:13.492088",
     "status": "completed"
    },
    "tags": []
   },
   "outputs": [],
   "source": [
    "from langgraph.graph import StateGraph, START, END\n",
    "from langchain_google_genai import ChatGoogleGenerativeAI\n",
    "\n",
    "# Use Gemini 2.0 flash model\n",
    "llm = ChatGoogleGenerativeAI(model=\"gemini-2.0-flash\")\n",
    "\n",
    "# --- REPLACE: chatbot and graph setup for travel booking ---\n",
    "\n",
    "def travel_chatbot(state: TravelBookingState) -> TravelBookingState:\n",
    "    \"\"\"Travel chatbot using Gemini to handle booking conversations.\"\"\"\n",
    "    message_history = [TRAVELBOT_SYSINT] + state[\"messages\"]\n",
    "    response = llm.invoke(message_history)\n",
    "    return {\n",
    "        \"messages\": [response],\n",
    "        \"booking_request\": state.get(\"booking_request\", {}),\n",
    "        \"finished\": False\n",
    "    }\n",
    "\n",
    "# Set up the LangGraph using the new travel booking state\n",
    "graph_builder = StateGraph(TravelBookingState)\n",
    "\n",
    "# Add the chatbot node (renamed for clarity)\n",
    "graph_builder.add_node(\"travel_chatbot\", travel_chatbot)\n",
    "\n",
    "# Define entrypoint and basic flow\n",
    "graph_builder.set_entry_point(\"travel_chatbot\")\n",
    "graph_builder.add_edge(START, \"travel_chatbot\")\n",
    "\n",
    "# This could lead to another node or loop, but we'll end it here for now\n",
    "graph_builder.add_edge(\"travel_chatbot\", END)\n",
    "\n",
    "# Compile the graph\n",
    "travel_chat_graph = graph_builder.compile()\n"
   ]
  },
  {
   "cell_type": "code",
   "execution_count": 5,
   "id": "9ae1404b",
   "metadata": {
    "execution": {
     "iopub.execute_input": "2025-04-17T20:09:14.625971Z",
     "iopub.status.busy": "2025-04-17T20:09:14.625443Z",
     "iopub.status.idle": "2025-04-17T20:09:14.629595Z",
     "shell.execute_reply": "2025-04-17T20:09:14.628752Z"
    },
    "papermill": {
     "duration": 0.010232,
     "end_time": "2025-04-17T20:09:14.631170",
     "exception": false,
     "start_time": "2025-04-17T20:09:14.620938",
     "status": "completed"
    },
    "tags": []
   },
   "outputs": [],
   "source": [
    "#from IPython.display import Image, display\n",
    "\n",
    "#Image(travel_chat_graph.get_graph().draw_mermaid_png())\n"
   ]
  },
  {
   "cell_type": "code",
   "execution_count": 6,
   "id": "5205aacf",
   "metadata": {
    "execution": {
     "iopub.execute_input": "2025-04-17T20:09:14.640211Z",
     "iopub.status.busy": "2025-04-17T20:09:14.639499Z",
     "iopub.status.idle": "2025-04-17T20:09:15.627237Z",
     "shell.execute_reply": "2025-04-17T20:09:15.626055Z"
    },
    "papermill": {
     "duration": 0.994122,
     "end_time": "2025-04-17T20:09:15.629111",
     "exception": false,
     "start_time": "2025-04-17T20:09:14.634989",
     "status": "completed"
    },
    "tags": []
   },
   "outputs": [
    {
     "name": "stdout",
     "output_type": "stream",
     "text": [
      "HumanMessage: Hello, what can you do?\n",
      "AIMessage: Hello! I'm your personal travel assistant for Sri Lanka. I can help you plan and even simulate booking your dream trip. Just tell me what you're looking for, whether it's a relaxing beach vacation, an adventurous cultural tour, or anything in between. I can provide recommendations based on your preferences, including destination, duration, activity type, and budget. How can I help you plan your Sri Lankan adventure today?\n"
     ]
    }
   ],
   "source": [
    "from pprint import pprint\n",
    "\n",
    "user_msg = \"Hello, what can you do?\"\n",
    "state = travel_chat_graph.invoke({\n",
    "    \"messages\": [user_msg],\n",
    "    \"booking_request\": {},\n",
    "    \"finished\": False\n",
    "})\n",
    "\n",
    "# Uncomment this to inspect the full state\n",
    "# pprint(state)\n",
    "\n",
    "# Print chat history (user + AI response)\n",
    "for msg in state[\"messages\"]:\n",
    "    print(f\"{type(msg).__name__}: {msg.content}\")\n",
    "\n"
   ]
  },
  {
   "cell_type": "code",
   "execution_count": 7,
   "id": "7974053c",
   "metadata": {
    "execution": {
     "iopub.execute_input": "2025-04-17T20:09:15.643534Z",
     "iopub.status.busy": "2025-04-17T20:09:15.642774Z",
     "iopub.status.idle": "2025-04-17T20:09:16.415127Z",
     "shell.execute_reply": "2025-04-17T20:09:16.414075Z"
    },
    "papermill": {
     "duration": 0.781583,
     "end_time": "2025-04-17T20:09:16.417039",
     "exception": false,
     "start_time": "2025-04-17T20:09:15.635456",
     "status": "completed"
    },
    "tags": []
   },
   "outputs": [
    {
     "name": "stdout",
     "output_type": "stream",
     "text": [
      "HumanMessage: Hello, what can you do?\n",
      "AIMessage: Hello! I'm your personal travel assistant for Sri Lanka. I can help you plan and even simulate booking your dream trip. Just tell me what you're looking for, whether it's a relaxing beach vacation, an adventurous cultural tour, or anything in between. I can provide recommendations based on your preferences, including destination, duration, activity type, and budget. How can I help you plan your Sri Lankan adventure today?\n",
      "HumanMessage: Can you plan me a weekend hiking trip in Ella under 200 dollars?\n",
      "AIMessage: Okay, I can help you with that! You're looking for a weekend hiking trip in Ella, with a budget under $200.\n",
      "\n",
      "Let me quickly retrieve some suitable packages for you.\n",
      "\n",
      "```tool_code\n",
      "print(travel_bot.retrieve_packages(destination='Ella', duration=2, activity_type='hiking', budget=200))\n",
      "```\n"
     ]
    }
   ],
   "source": [
    "user_msg = \"Can you plan me a weekend hiking trip in Ella under 200 dollars?\"\n",
    "\n",
    "\n",
    "# Append new user message to previous message history\n",
    "state[\"messages\"].append(user_msg)\n",
    "\n",
    "# Invoke the travel booking assistant again with updated state\n",
    "state = travel_chat_graph.invoke(state)\n",
    "\n",
    "# Print conversation history\n",
    "for msg in state[\"messages\"]:\n",
    "    print(f\"{type(msg).__name__}: {msg.content}\")\n",
    "    \n"
   ]
  },
  {
   "cell_type": "code",
   "execution_count": 8,
   "id": "ccca1ff8",
   "metadata": {
    "execution": {
     "iopub.execute_input": "2025-04-17T20:09:16.425769Z",
     "iopub.status.busy": "2025-04-17T20:09:16.425425Z",
     "iopub.status.idle": "2025-04-17T20:09:16.435328Z",
     "shell.execute_reply": "2025-04-17T20:09:16.434516Z"
    },
    "papermill": {
     "duration": 0.015662,
     "end_time": "2025-04-17T20:09:16.436599",
     "exception": false,
     "start_time": "2025-04-17T20:09:16.420937",
     "status": "completed"
    },
    "tags": []
   },
   "outputs": [],
   "source": [
    "from langchain_core.messages.ai import AIMessage\n",
    "\n",
    "def human_node(state: TravelBookingState) -> TravelBookingState:\n",
    "    \"\"\"Displays model message to user, takes user input.\"\"\"\n",
    "    last_msg = state[\"messages\"][-1]\n",
    "    print(\"Model:\", last_msg.content)\n",
    "\n",
    "    user_input = input(\"User: \")\n",
    "\n",
    "    if user_input.lower() in {\"q\", \"quit\", \"exit\", \"goodbye\"}:\n",
    "        state[\"finished\"] = True\n",
    "\n",
    "    return state | {\"messages\": [(\"user\", user_input)]}\n",
    "\n",
    "\n",
    "def travel_chatbot_with_welcome(state: TravelBookingState) -> TravelBookingState:\n",
    "    \"\"\"Chatbot entry that shows welcome message if first turn, else continues conversation.\"\"\"\n",
    "    if state[\"messages\"]:\n",
    "        new_output = llm.invoke([TRAVELBOT_SYSINT] + state[\"messages\"])\n",
    "    else:\n",
    "        new_output = AIMessage(content=WELCOME_MSG)\n",
    "\n",
    "    return state | {\"messages\": [new_output]}\n",
    "\n",
    "\n",
    "# Build the new looped graph\n",
    "graph_builder = StateGraph(TravelBookingState)\n",
    "\n",
    "# Add chatbot and human interaction nodes\n",
    "graph_builder.add_node(\"travel_chatbot\", travel_chatbot_with_welcome)\n",
    "graph_builder.add_node(\"human\", human_node)\n",
    "\n",
    "# Start at chatbot, then always go to human, and repeat\n",
    "graph_builder.add_edge(START, \"travel_chatbot\")\n",
    "graph_builder.add_edge(\"travel_chatbot\", \"human\")\n",
    "graph_builder.add_edge(\"human\", \"travel_chatbot\")  # loop continues\n",
    "\n",
    "# Define how to end\n",
    "#graph_builder.set_finish_condition(lambda state: state.get(\"finished\") is True)\n",
    "\n",
    "# Compile the final travel chat loop\n",
    "travel_loop_graph = graph_builder.compile()\n"
   ]
  },
  {
   "cell_type": "code",
   "execution_count": 9,
   "id": "000305aa",
   "metadata": {
    "execution": {
     "iopub.execute_input": "2025-04-17T20:09:16.445592Z",
     "iopub.status.busy": "2025-04-17T20:09:16.445281Z",
     "iopub.status.idle": "2025-04-17T20:09:16.452489Z",
     "shell.execute_reply": "2025-04-17T20:09:16.451803Z"
    },
    "papermill": {
     "duration": 0.013449,
     "end_time": "2025-04-17T20:09:16.453966",
     "exception": false,
     "start_time": "2025-04-17T20:09:16.440517",
     "status": "completed"
    },
    "tags": []
   },
   "outputs": [],
   "source": [
    "from typing import Literal\n",
    "\n",
    "def maybe_exit_human_node(state: TravelBookingState) -> Literal[\"travel_chatbot\", \"__end__\"]:\n",
    "    \"\"\"Route to chatbot or end depending on user exit intent.\"\"\"\n",
    "    if state.get(\"finished\", False):\n",
    "        return END\n",
    "    else:\n",
    "        return \"travel_chatbot\"\n",
    "\n",
    "graph_builder.add_conditional_edges(\"human\", maybe_exit_human_node)\n",
    "\n",
    "# Compile graph with conditional edge\n",
    "chat_with_human_graph = graph_builder.compile()\n",
    "\n",
    "# Visualize the conversation flow\n",
    "#Image(chat_with_human_graph.get_graph().draw_mermaid_png())\n"
   ]
  },
  {
   "cell_type": "code",
   "execution_count": 10,
   "id": "ddcf9b81",
   "metadata": {
    "execution": {
     "iopub.execute_input": "2025-04-17T20:09:16.463269Z",
     "iopub.status.busy": "2025-04-17T20:09:16.462623Z",
     "iopub.status.idle": "2025-04-17T20:09:16.473535Z",
     "shell.execute_reply": "2025-04-17T20:09:16.472789Z"
    },
    "papermill": {
     "duration": 0.01699,
     "end_time": "2025-04-17T20:09:16.474989",
     "exception": false,
     "start_time": "2025-04-17T20:09:16.457999",
     "status": "completed"
    },
    "tags": []
   },
   "outputs": [],
   "source": [
    "from langchain_core.tools import tool\n",
    "\n",
    "@tool\n",
    "def get_packages(destination: str, max_budget: int) -> str:\n",
    "    \"\"\"Retrieve available travel packages for a given destination and budget.\"\"\"\n",
    "\n",
    "    # Dummy packages database (could be from a real DB in future)\n",
    "    packages = {\n",
    "        \"arugam bay\": [\n",
    "            {\"title\": \"Surf & Chill 3-Day Tour\", \"price\": 280, \"details\": \"Includes surf lessons, 2 nights hotel, and transport.\"},\n",
    "            {\"title\": \"Budget Surf Hostel Experience\", \"price\": 190, \"details\": \"Shared hostel, surfboard rental, and beach BBQ.\"},\n",
    "            {\"title\": \"Luxury Surf Retreat\", \"price\": 450, \"details\": \"4-star hotel, private instructor, meals included.\"}\n",
    "        ],\n",
    "        \"ella\": [\n",
    "            {\"title\": \"Ella Hiking Adventure\", \"price\": 150, \"details\": \"2 nights guesthouse, Ella Rock and 9 Arch Hike.\"},\n",
    "            {\"title\": \"Luxury Mountain Getaway\", \"price\": 300, \"details\": \"3 nights boutique stay, guided treks, breakfast included.\"}\n",
    "        ]\n",
    "    }\n",
    "\n",
    "    # Normalize destination\n",
    "    dest = destination.lower()\n",
    "\n",
    "    if dest not in packages:\n",
    "        return f\"Sorry, we currently have no packages listed for {destination.title()}.\"\n",
    "\n",
    "    # Filter packages under budget\n",
    "    matching = [pkg for pkg in packages[dest] if pkg[\"price\"] <= max_budget]\n",
    "\n",
    "    if not matching:\n",
    "        return f\"No available packages under ${max_budget} for {destination.title()}.\"\n",
    "\n",
    "    # Format result\n",
    "    result = f\"Packages available for {destination.title()} under ${max_budget}:\\n\"\n",
    "    for pkg in matching:\n",
    "        result += f\"\\n- {pkg['title']} (${pkg['price']}): {pkg['details']}\"\n",
    "\n",
    "    return result\n"
   ]
  },
  {
   "cell_type": "code",
   "execution_count": 11,
   "id": "719b4c6d",
   "metadata": {
    "execution": {
     "iopub.execute_input": "2025-04-17T20:09:16.483801Z",
     "iopub.status.busy": "2025-04-17T20:09:16.483466Z",
     "iopub.status.idle": "2025-04-17T20:09:16.512364Z",
     "shell.execute_reply": "2025-04-17T20:09:16.511622Z"
    },
    "papermill": {
     "duration": 0.035061,
     "end_time": "2025-04-17T20:09:16.513870",
     "exception": false,
     "start_time": "2025-04-17T20:09:16.478809",
     "status": "completed"
    },
    "tags": []
   },
   "outputs": [],
   "source": [
    "from langgraph.prebuilt import ToolNode\n",
    "\n",
    "# Define the tools (get_packages instead of get_menu)\n",
    "tools = [get_packages]\n",
    "tool_node = ToolNode(tools)\n",
    "\n",
    "# Bind the tool to the model\n",
    "llm_with_tools = llm.bind_tools(tools)\n",
    "\n",
    "def maybe_route_to_tools(state: TravelBookingState) -> Literal[\"tools\", \"human\"]:\n",
    "    \"\"\"Route between human or tool nodes, depending on tool calls.\"\"\"\n",
    "    if not (msgs := state.get(\"messages\", [])):\n",
    "        raise ValueError(f\"No messages found when parsing state: {state}\")\n",
    "\n",
    "    msg = msgs[-1]\n",
    "\n",
    "    if hasattr(msg, \"tool_calls\") and len(msg.tool_calls) > 0:\n",
    "        return \"tools\"\n",
    "    else:\n",
    "        return \"human\"\n",
    "\n",
    "def travel_chatbot_with_tools(state: TravelBookingState) -> TravelBookingState:\n",
    "    \"\"\"Chatbot that interacts with tools (get travel packages).\"\"\"\n",
    "    defaults = {\"booking_request\": {}, \"finished\": False}\n",
    "\n",
    "    if state[\"messages\"]:\n",
    "        new_output = llm_with_tools.invoke([TRAVELBOT_SYSINT] + state[\"messages\"])\n",
    "    else:\n",
    "        new_output = AIMessage(content=WELCOME_MSG)\n",
    "\n",
    "    return defaults | state | {\"messages\": [new_output]}\n",
    "\n",
    "# Build the travel booking conversation graph\n",
    "graph_builder = StateGraph(TravelBookingState)\n",
    "\n",
    "# Add the travel chatbot, human, and tools nodes\n",
    "graph_builder.add_node(\"travel_chatbot\", travel_chatbot_with_tools)\n",
    "graph_builder.add_node(\"human\", human_node)\n",
    "graph_builder.add_node(\"tools\", tool_node)\n",
    "\n",
    "# Conditional routing\n",
    "graph_builder.add_conditional_edges(\"travel_chatbot\", maybe_route_to_tools)\n",
    "graph_builder.add_conditional_edges(\"human\", maybe_exit_human_node)\n",
    "\n",
    "# Tools always route back to the chatbot\n",
    "graph_builder.add_edge(\"tools\", \"travel_chatbot\")\n",
    "\n",
    "# Start at the chatbot node\n",
    "graph_builder.add_edge(START, \"travel_chatbot\")\n",
    "\n",
    "# Compile the graph\n",
    "travel_graph_with_tools = graph_builder.compile()\n",
    "\n",
    "# Visualize the flow\n",
    "#Image(travel_graph_with_tools.get_graph().draw_mermaid_png())\n"
   ]
  },
  {
   "cell_type": "code",
   "execution_count": 12,
   "id": "65a85f0f",
   "metadata": {
    "execution": {
     "iopub.execute_input": "2025-04-17T20:09:16.523346Z",
     "iopub.status.busy": "2025-04-17T20:09:16.522604Z",
     "iopub.status.idle": "2025-04-17T20:09:16.659855Z",
     "shell.execute_reply": "2025-04-17T20:09:16.658565Z"
    },
    "papermill": {
     "duration": 0.143392,
     "end_time": "2025-04-17T20:09:16.661340",
     "exception": true,
     "start_time": "2025-04-17T20:09:16.517948",
     "status": "failed"
    },
    "tags": []
   },
   "outputs": [
    {
     "name": "stdout",
     "output_type": "stream",
     "text": [
      "Model: Ayubowan! I’m your Sri Lankan Travel Buddy. Type `q` to quit. How can I help you plan your next adventure?\n"
     ]
    },
    {
     "ename": "StdinNotImplementedError",
     "evalue": "raw_input was called, but this frontend does not support input requests.",
     "output_type": "error",
     "traceback": [
      "\u001b[0;31m---------------------------------------------------------------------------\u001b[0m",
      "\u001b[0;31mStdinNotImplementedError\u001b[0m                  Traceback (most recent call last)",
      "\u001b[0;32m/tmp/ipykernel_13/3286108963.py\u001b[0m in \u001b[0;36m<cell line: 0>\u001b[0;34m()\u001b[0m\n\u001b[1;32m      8\u001b[0m \u001b[0;31m# Uncomment this line to execute the graph:\u001b[0m\u001b[0;34m\u001b[0m\u001b[0;34m\u001b[0m\u001b[0m\n\u001b[1;32m      9\u001b[0m \u001b[0;31m# Final Execution (with tool-based graph)\u001b[0m\u001b[0;34m\u001b[0m\u001b[0;34m\u001b[0m\u001b[0m\n\u001b[0;32m---> 10\u001b[0;31m \u001b[0mstate\u001b[0m \u001b[0;34m=\u001b[0m \u001b[0mtravel_graph_with_tools\u001b[0m\u001b[0;34m.\u001b[0m\u001b[0minvoke\u001b[0m\u001b[0;34m(\u001b[0m\u001b[0;34m{\u001b[0m\u001b[0;34m\"messages\"\u001b[0m\u001b[0;34m:\u001b[0m \u001b[0;34m[\u001b[0m\u001b[0;34m]\u001b[0m\u001b[0;34m}\u001b[0m\u001b[0;34m,\u001b[0m \u001b[0mconfig\u001b[0m\u001b[0;34m)\u001b[0m\u001b[0;34m\u001b[0m\u001b[0;34m\u001b[0m\u001b[0m\n\u001b[0m\u001b[1;32m     11\u001b[0m \u001b[0;34m\u001b[0m\u001b[0m\n\u001b[1;32m     12\u001b[0m \u001b[0;34m\u001b[0m\u001b[0m\n",
      "\u001b[0;32m/usr/local/lib/python3.11/dist-packages/langgraph/pregel/__init__.py\u001b[0m in \u001b[0;36minvoke\u001b[0;34m(self, input, config, stream_mode, output_keys, interrupt_before, interrupt_after, debug, **kwargs)\u001b[0m\n\u001b[1;32m   2681\u001b[0m         \u001b[0;32melse\u001b[0m\u001b[0;34m:\u001b[0m\u001b[0;34m\u001b[0m\u001b[0;34m\u001b[0m\u001b[0m\n\u001b[1;32m   2682\u001b[0m             \u001b[0mchunks\u001b[0m \u001b[0;34m=\u001b[0m \u001b[0;34m[\u001b[0m\u001b[0;34m]\u001b[0m\u001b[0;34m\u001b[0m\u001b[0;34m\u001b[0m\u001b[0m\n\u001b[0;32m-> 2683\u001b[0;31m         for chunk in self.stream(\n\u001b[0m\u001b[1;32m   2684\u001b[0m             \u001b[0minput\u001b[0m\u001b[0;34m,\u001b[0m\u001b[0;34m\u001b[0m\u001b[0;34m\u001b[0m\u001b[0m\n\u001b[1;32m   2685\u001b[0m             \u001b[0mconfig\u001b[0m\u001b[0;34m,\u001b[0m\u001b[0;34m\u001b[0m\u001b[0;34m\u001b[0m\u001b[0m\n",
      "\u001b[0;32m/usr/local/lib/python3.11/dist-packages/langgraph/pregel/__init__.py\u001b[0m in \u001b[0;36mstream\u001b[0;34m(self, input, config, stream_mode, output_keys, interrupt_before, interrupt_after, debug, subgraphs)\u001b[0m\n\u001b[1;32m   2329\u001b[0m                 \u001b[0;31m# with channel updates applied only at the transition between steps.\u001b[0m\u001b[0;34m\u001b[0m\u001b[0;34m\u001b[0m\u001b[0m\n\u001b[1;32m   2330\u001b[0m                 \u001b[0;32mwhile\u001b[0m \u001b[0mloop\u001b[0m\u001b[0;34m.\u001b[0m\u001b[0mtick\u001b[0m\u001b[0;34m(\u001b[0m\u001b[0minput_keys\u001b[0m\u001b[0;34m=\u001b[0m\u001b[0mself\u001b[0m\u001b[0;34m.\u001b[0m\u001b[0minput_channels\u001b[0m\u001b[0;34m)\u001b[0m\u001b[0;34m:\u001b[0m\u001b[0;34m\u001b[0m\u001b[0;34m\u001b[0m\u001b[0m\n\u001b[0;32m-> 2331\u001b[0;31m                     for _ in runner.tick(\n\u001b[0m\u001b[1;32m   2332\u001b[0m                         \u001b[0mloop\u001b[0m\u001b[0;34m.\u001b[0m\u001b[0mtasks\u001b[0m\u001b[0;34m.\u001b[0m\u001b[0mvalues\u001b[0m\u001b[0;34m(\u001b[0m\u001b[0;34m)\u001b[0m\u001b[0;34m,\u001b[0m\u001b[0;34m\u001b[0m\u001b[0;34m\u001b[0m\u001b[0m\n\u001b[1;32m   2333\u001b[0m                         \u001b[0mtimeout\u001b[0m\u001b[0;34m=\u001b[0m\u001b[0mself\u001b[0m\u001b[0;34m.\u001b[0m\u001b[0mstep_timeout\u001b[0m\u001b[0;34m,\u001b[0m\u001b[0;34m\u001b[0m\u001b[0;34m\u001b[0m\u001b[0m\n",
      "\u001b[0;32m/usr/local/lib/python3.11/dist-packages/langgraph/pregel/runner.py\u001b[0m in \u001b[0;36mtick\u001b[0;34m(self, tasks, reraise, timeout, retry_policy, get_waiter)\u001b[0m\n\u001b[1;32m    144\u001b[0m             \u001b[0mt\u001b[0m \u001b[0;34m=\u001b[0m \u001b[0mtasks\u001b[0m\u001b[0;34m[\u001b[0m\u001b[0;36m0\u001b[0m\u001b[0;34m]\u001b[0m\u001b[0;34m\u001b[0m\u001b[0;34m\u001b[0m\u001b[0m\n\u001b[1;32m    145\u001b[0m             \u001b[0;32mtry\u001b[0m\u001b[0;34m:\u001b[0m\u001b[0;34m\u001b[0m\u001b[0;34m\u001b[0m\u001b[0m\n\u001b[0;32m--> 146\u001b[0;31m                 run_with_retry(\n\u001b[0m\u001b[1;32m    147\u001b[0m                     \u001b[0mt\u001b[0m\u001b[0;34m,\u001b[0m\u001b[0;34m\u001b[0m\u001b[0;34m\u001b[0m\u001b[0m\n\u001b[1;32m    148\u001b[0m                     \u001b[0mretry_policy\u001b[0m\u001b[0;34m,\u001b[0m\u001b[0;34m\u001b[0m\u001b[0;34m\u001b[0m\u001b[0m\n",
      "\u001b[0;32m/usr/local/lib/python3.11/dist-packages/langgraph/pregel/retry.py\u001b[0m in \u001b[0;36mrun_with_retry\u001b[0;34m(task, retry_policy, configurable)\u001b[0m\n\u001b[1;32m     38\u001b[0m             \u001b[0mtask\u001b[0m\u001b[0;34m.\u001b[0m\u001b[0mwrites\u001b[0m\u001b[0;34m.\u001b[0m\u001b[0mclear\u001b[0m\u001b[0;34m(\u001b[0m\u001b[0;34m)\u001b[0m\u001b[0;34m\u001b[0m\u001b[0;34m\u001b[0m\u001b[0m\n\u001b[1;32m     39\u001b[0m             \u001b[0;31m# run the task\u001b[0m\u001b[0;34m\u001b[0m\u001b[0;34m\u001b[0m\u001b[0m\n\u001b[0;32m---> 40\u001b[0;31m             \u001b[0;32mreturn\u001b[0m \u001b[0mtask\u001b[0m\u001b[0;34m.\u001b[0m\u001b[0mproc\u001b[0m\u001b[0;34m.\u001b[0m\u001b[0minvoke\u001b[0m\u001b[0;34m(\u001b[0m\u001b[0mtask\u001b[0m\u001b[0;34m.\u001b[0m\u001b[0minput\u001b[0m\u001b[0;34m,\u001b[0m \u001b[0mconfig\u001b[0m\u001b[0;34m)\u001b[0m\u001b[0;34m\u001b[0m\u001b[0;34m\u001b[0m\u001b[0m\n\u001b[0m\u001b[1;32m     41\u001b[0m         \u001b[0;32mexcept\u001b[0m \u001b[0mParentCommand\u001b[0m \u001b[0;32mas\u001b[0m \u001b[0mexc\u001b[0m\u001b[0;34m:\u001b[0m\u001b[0;34m\u001b[0m\u001b[0;34m\u001b[0m\u001b[0m\n\u001b[1;32m     42\u001b[0m             \u001b[0mns\u001b[0m\u001b[0;34m:\u001b[0m \u001b[0mstr\u001b[0m \u001b[0;34m=\u001b[0m \u001b[0mconfig\u001b[0m\u001b[0;34m[\u001b[0m\u001b[0mCONF\u001b[0m\u001b[0;34m]\u001b[0m\u001b[0;34m[\u001b[0m\u001b[0mCONFIG_KEY_CHECKPOINT_NS\u001b[0m\u001b[0;34m]\u001b[0m\u001b[0;34m\u001b[0m\u001b[0;34m\u001b[0m\u001b[0m\n",
      "\u001b[0;32m/usr/local/lib/python3.11/dist-packages/langgraph/utils/runnable.py\u001b[0m in \u001b[0;36minvoke\u001b[0;34m(self, input, config, **kwargs)\u001b[0m\n\u001b[1;32m    604\u001b[0m                 )\n\u001b[1;32m    605\u001b[0m                 \u001b[0;32mif\u001b[0m \u001b[0mi\u001b[0m \u001b[0;34m==\u001b[0m \u001b[0;36m0\u001b[0m\u001b[0;34m:\u001b[0m\u001b[0;34m\u001b[0m\u001b[0;34m\u001b[0m\u001b[0m\n\u001b[0;32m--> 606\u001b[0;31m                     \u001b[0minput\u001b[0m \u001b[0;34m=\u001b[0m \u001b[0mstep\u001b[0m\u001b[0;34m.\u001b[0m\u001b[0minvoke\u001b[0m\u001b[0;34m(\u001b[0m\u001b[0minput\u001b[0m\u001b[0;34m,\u001b[0m \u001b[0mconfig\u001b[0m\u001b[0;34m,\u001b[0m \u001b[0;34m**\u001b[0m\u001b[0mkwargs\u001b[0m\u001b[0;34m)\u001b[0m\u001b[0;34m\u001b[0m\u001b[0;34m\u001b[0m\u001b[0m\n\u001b[0m\u001b[1;32m    607\u001b[0m                 \u001b[0;32melse\u001b[0m\u001b[0;34m:\u001b[0m\u001b[0;34m\u001b[0m\u001b[0;34m\u001b[0m\u001b[0m\n\u001b[1;32m    608\u001b[0m                     \u001b[0minput\u001b[0m \u001b[0;34m=\u001b[0m \u001b[0mstep\u001b[0m\u001b[0;34m.\u001b[0m\u001b[0minvoke\u001b[0m\u001b[0;34m(\u001b[0m\u001b[0minput\u001b[0m\u001b[0;34m,\u001b[0m \u001b[0mconfig\u001b[0m\u001b[0;34m)\u001b[0m\u001b[0;34m\u001b[0m\u001b[0;34m\u001b[0m\u001b[0m\n",
      "\u001b[0;32m/usr/local/lib/python3.11/dist-packages/langgraph/utils/runnable.py\u001b[0m in \u001b[0;36minvoke\u001b[0;34m(self, input, config, **kwargs)\u001b[0m\n\u001b[1;32m    369\u001b[0m         \u001b[0;32melse\u001b[0m\u001b[0;34m:\u001b[0m\u001b[0;34m\u001b[0m\u001b[0;34m\u001b[0m\u001b[0m\n\u001b[1;32m    370\u001b[0m             \u001b[0;32mwith\u001b[0m \u001b[0mset_config_context\u001b[0m\u001b[0;34m(\u001b[0m\u001b[0mconfig\u001b[0m\u001b[0;34m)\u001b[0m \u001b[0;32mas\u001b[0m \u001b[0mcontext\u001b[0m\u001b[0;34m:\u001b[0m\u001b[0;34m\u001b[0m\u001b[0;34m\u001b[0m\u001b[0m\n\u001b[0;32m--> 371\u001b[0;31m                 \u001b[0mret\u001b[0m \u001b[0;34m=\u001b[0m \u001b[0mcontext\u001b[0m\u001b[0;34m.\u001b[0m\u001b[0mrun\u001b[0m\u001b[0;34m(\u001b[0m\u001b[0mself\u001b[0m\u001b[0;34m.\u001b[0m\u001b[0mfunc\u001b[0m\u001b[0;34m,\u001b[0m \u001b[0;34m*\u001b[0m\u001b[0margs\u001b[0m\u001b[0;34m,\u001b[0m \u001b[0;34m**\u001b[0m\u001b[0mkwargs\u001b[0m\u001b[0;34m)\u001b[0m\u001b[0;34m\u001b[0m\u001b[0;34m\u001b[0m\u001b[0m\n\u001b[0m\u001b[1;32m    372\u001b[0m         \u001b[0;32mif\u001b[0m \u001b[0misinstance\u001b[0m\u001b[0;34m(\u001b[0m\u001b[0mret\u001b[0m\u001b[0;34m,\u001b[0m \u001b[0mRunnable\u001b[0m\u001b[0;34m)\u001b[0m \u001b[0;32mand\u001b[0m \u001b[0mself\u001b[0m\u001b[0;34m.\u001b[0m\u001b[0mrecurse\u001b[0m\u001b[0;34m:\u001b[0m\u001b[0;34m\u001b[0m\u001b[0;34m\u001b[0m\u001b[0m\n\u001b[1;32m    373\u001b[0m             \u001b[0;32mreturn\u001b[0m \u001b[0mret\u001b[0m\u001b[0;34m.\u001b[0m\u001b[0minvoke\u001b[0m\u001b[0;34m(\u001b[0m\u001b[0minput\u001b[0m\u001b[0;34m,\u001b[0m \u001b[0mconfig\u001b[0m\u001b[0;34m)\u001b[0m\u001b[0;34m\u001b[0m\u001b[0;34m\u001b[0m\u001b[0m\n",
      "\u001b[0;32m/tmp/ipykernel_13/2792363260.py\u001b[0m in \u001b[0;36mhuman_node\u001b[0;34m(state)\u001b[0m\n\u001b[1;32m      6\u001b[0m     \u001b[0mprint\u001b[0m\u001b[0;34m(\u001b[0m\u001b[0;34m\"Model:\"\u001b[0m\u001b[0;34m,\u001b[0m \u001b[0mlast_msg\u001b[0m\u001b[0;34m.\u001b[0m\u001b[0mcontent\u001b[0m\u001b[0;34m)\u001b[0m\u001b[0;34m\u001b[0m\u001b[0;34m\u001b[0m\u001b[0m\n\u001b[1;32m      7\u001b[0m \u001b[0;34m\u001b[0m\u001b[0m\n\u001b[0;32m----> 8\u001b[0;31m     \u001b[0muser_input\u001b[0m \u001b[0;34m=\u001b[0m \u001b[0minput\u001b[0m\u001b[0;34m(\u001b[0m\u001b[0;34m\"User: \"\u001b[0m\u001b[0;34m)\u001b[0m\u001b[0;34m\u001b[0m\u001b[0;34m\u001b[0m\u001b[0m\n\u001b[0m\u001b[1;32m      9\u001b[0m \u001b[0;34m\u001b[0m\u001b[0m\n\u001b[1;32m     10\u001b[0m     \u001b[0;32mif\u001b[0m \u001b[0muser_input\u001b[0m\u001b[0;34m.\u001b[0m\u001b[0mlower\u001b[0m\u001b[0;34m(\u001b[0m\u001b[0;34m)\u001b[0m \u001b[0;32min\u001b[0m \u001b[0;34m{\u001b[0m\u001b[0;34m\"q\"\u001b[0m\u001b[0;34m,\u001b[0m \u001b[0;34m\"quit\"\u001b[0m\u001b[0;34m,\u001b[0m \u001b[0;34m\"exit\"\u001b[0m\u001b[0;34m,\u001b[0m \u001b[0;34m\"goodbye\"\u001b[0m\u001b[0;34m}\u001b[0m\u001b[0;34m:\u001b[0m\u001b[0;34m\u001b[0m\u001b[0;34m\u001b[0m\u001b[0m\n",
      "\u001b[0;32m/usr/local/lib/python3.11/dist-packages/ipykernel/kernelbase.py\u001b[0m in \u001b[0;36mraw_input\u001b[0;34m(self, prompt)\u001b[0m\n\u001b[1;32m   1172\u001b[0m         \"\"\"\n\u001b[1;32m   1173\u001b[0m         \u001b[0;32mif\u001b[0m \u001b[0;32mnot\u001b[0m \u001b[0mself\u001b[0m\u001b[0;34m.\u001b[0m\u001b[0m_allow_stdin\u001b[0m\u001b[0;34m:\u001b[0m\u001b[0;34m\u001b[0m\u001b[0;34m\u001b[0m\u001b[0m\n\u001b[0;32m-> 1174\u001b[0;31m             raise StdinNotImplementedError(\n\u001b[0m\u001b[1;32m   1175\u001b[0m                 \u001b[0;34m\"raw_input was called, but this frontend does not support input requests.\"\u001b[0m\u001b[0;34m\u001b[0m\u001b[0;34m\u001b[0m\u001b[0m\n\u001b[1;32m   1176\u001b[0m             )\n",
      "\u001b[0;31mStdinNotImplementedError\u001b[0m: raw_input was called, but this frontend does not support input requests."
     ]
    }
   ],
   "source": [
    "# The default recursion limit for traversing nodes is 25 - setting it higher means\n",
    "# you can try a more complex order with multiple steps and round-trips (and you\n",
    "# can chat for longer!)\n",
    "config = {\"recursion_limit\": 100}\n",
    "\n",
    "# Remember that this will loop forever, unless you input `q`, `quit` or one of the\n",
    "# other exit terms defined in `human_node`.\n",
    "# Uncomment this line to execute the graph:\n",
    "# Final Execution (with tool-based graph)\n",
    "state = travel_graph_with_tools.invoke({\"messages\": []}, config)\n",
    "\n",
    "\n",
    "# Things to try:\n",
    "#  - Just chat! There's no ordering or menu yet.\n",
    "#  - 'q' to exit.\n",
    "\n",
    "\n",
    "# pprint(state)"
   ]
  },
  {
   "cell_type": "code",
   "execution_count": null,
   "id": "f1e524b3",
   "metadata": {
    "papermill": {
     "duration": null,
     "end_time": null,
     "exception": null,
     "start_time": null,
     "status": "pending"
    },
    "tags": []
   },
   "outputs": [],
   "source": []
  }
 ],
 "metadata": {
  "kaggle": {
   "accelerator": "none",
   "dataSources": [],
   "dockerImageVersionId": 31012,
   "isGpuEnabled": false,
   "isInternetEnabled": true,
   "language": "python",
   "sourceType": "notebook"
  },
  "kernelspec": {
   "display_name": "Python 3",
   "language": "python",
   "name": "python3"
  },
  "language_info": {
   "codemirror_mode": {
    "name": "ipython",
    "version": 3
   },
   "file_extension": ".py",
   "mimetype": "text/x-python",
   "name": "python",
   "nbconvert_exporter": "python",
   "pygments_lexer": "ipython3",
   "version": "3.11.11"
  },
  "papermill": {
   "default_parameters": {},
   "duration": 48.47496,
   "end_time": "2025-04-17T20:09:17.485533",
   "environment_variables": {},
   "exception": true,
   "input_path": "__notebook__.ipynb",
   "output_path": "__notebook__.ipynb",
   "parameters": {},
   "start_time": "2025-04-17T20:08:29.010573",
   "version": "2.6.0"
  }
 },
 "nbformat": 4,
 "nbformat_minor": 5
}
