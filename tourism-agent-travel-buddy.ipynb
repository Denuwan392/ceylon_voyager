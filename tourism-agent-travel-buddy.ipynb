{
 "cells": [
  {
   "cell_type": "code",
   "execution_count": 1,
   "id": "54c6263f",
   "metadata": {
    "_cell_guid": "b1076dfc-b9ad-4769-8c92-a6c4dae69d19",
    "_uuid": "8f2839f25d086af736a60e9eeb907d3b93b6e0e5",
    "execution": {
     "iopub.execute_input": "2025-04-17T18:37:28.582834Z",
     "iopub.status.busy": "2025-04-17T18:37:28.582504Z",
     "iopub.status.idle": "2025-04-17T18:37:58.988595Z",
     "shell.execute_reply": "2025-04-17T18:37:58.987577Z"
    },
    "papermill": {
     "duration": 30.412374,
     "end_time": "2025-04-17T18:37:58.990346",
     "exception": false,
     "start_time": "2025-04-17T18:37:28.577972",
     "status": "completed"
    },
    "tags": []
   },
   "outputs": [
    {
     "name": "stdout",
     "output_type": "stream",
     "text": [
      "\u001b[33mWARNING: Skipping kfp as it is not installed.\u001b[0m\u001b[33m\r\n",
      "\u001b[2K     \u001b[90m━━━━━━━━━━━━━━━━━━━━━━━━━━━━━━━━━━━━━━━━\u001b[0m \u001b[32m43.5/43.5 kB\u001b[0m \u001b[31m1.5 MB/s\u001b[0m eta \u001b[36m0:00:00\u001b[0m\r\n",
      "\u001b[2K   \u001b[90m━━━━━━━━━━━━━━━━━━━━━━━━━━━━━━━━━━━━━━━━\u001b[0m \u001b[32m138.0/138.0 kB\u001b[0m \u001b[31m4.9 MB/s\u001b[0m eta \u001b[36m0:00:00\u001b[0m\r\n",
      "\u001b[2K   \u001b[90m━━━━━━━━━━━━━━━━━━━━━━━━━━━━━━━━━━━━━━━━\u001b[0m \u001b[32m42.0/42.0 kB\u001b[0m \u001b[31m2.2 MB/s\u001b[0m eta \u001b[36m0:00:00\u001b[0m\r\n",
      "\u001b[2K   \u001b[90m━━━━━━━━━━━━━━━━━━━━━━━━━━━━━━━━━━━━━━━━\u001b[0m \u001b[32m1.4/1.4 MB\u001b[0m \u001b[31m26.8 MB/s\u001b[0m eta \u001b[36m0:00:00\u001b[0m\r\n",
      "\u001b[2K   \u001b[90m━━━━━━━━━━━━━━━━━━━━━━━━━━━━━━━━━━━━━━━━\u001b[0m \u001b[32m433.3/433.3 kB\u001b[0m \u001b[31m23.8 MB/s\u001b[0m eta \u001b[36m0:00:00\u001b[0m\r\n",
      "\u001b[2K   \u001b[90m━━━━━━━━━━━━━━━━━━━━━━━━━━━━━━━━━━━━━━━━\u001b[0m \u001b[32m42.0/42.0 kB\u001b[0m \u001b[31m2.3 MB/s\u001b[0m eta \u001b[36m0:00:00\u001b[0m\r\n",
      "\u001b[2K   \u001b[90m━━━━━━━━━━━━━━━━━━━━━━━━━━━━━━━━━━━━━━━━\u001b[0m \u001b[32m47.2/47.2 kB\u001b[0m \u001b[31m2.4 MB/s\u001b[0m eta \u001b[36m0:00:00\u001b[0m\r\n",
      "\u001b[2K   \u001b[90m━━━━━━━━━━━━━━━━━━━━━━━━━━━━━━━━━━━━━━━━\u001b[0m \u001b[32m223.6/223.6 kB\u001b[0m \u001b[31m13.4 MB/s\u001b[0m eta \u001b[36m0:00:00\u001b[0m\r\n",
      "\u001b[?25h"
     ]
    }
   ],
   "source": [
    "# Remove conflicting packages from the Kaggle base environment.\n",
    "!pip uninstall -qqy kfp jupyterlab libpysal thinc spacy fastai ydata-profiling google-cloud-bigquery google-generativeai\n",
    "# Install langgraph and the packages used in this lab.\n",
    "!pip install -qU 'langgraph==0.3.21' 'langchain-google-genai==2.1.2' 'langgraph-prebuilt==0.1.7'"
   ]
  },
  {
   "cell_type": "code",
   "execution_count": 2,
   "id": "3571ded9",
   "metadata": {
    "execution": {
     "iopub.execute_input": "2025-04-17T18:37:58.998522Z",
     "iopub.status.busy": "2025-04-17T18:37:58.998191Z",
     "iopub.status.idle": "2025-04-17T18:37:59.191844Z",
     "shell.execute_reply": "2025-04-17T18:37:59.190896Z"
    },
    "papermill": {
     "duration": 0.199547,
     "end_time": "2025-04-17T18:37:59.193531",
     "exception": false,
     "start_time": "2025-04-17T18:37:58.993984",
     "status": "completed"
    },
    "tags": []
   },
   "outputs": [],
   "source": [
    "import os\n",
    "from kaggle_secrets import UserSecretsClient\n",
    "\n",
    "from IPython.display import Markdown\n",
    "\n",
    "GOOGLE_API_KEY = UserSecretsClient().get_secret(\"GOOGLE_API_KEY\")\n",
    "os.environ[\"GOOGLE_API_KEY\"] = GOOGLE_API_KEY"
   ]
  },
  {
   "cell_type": "code",
   "execution_count": 3,
   "id": "8178b1df",
   "metadata": {
    "execution": {
     "iopub.execute_input": "2025-04-17T18:37:59.201328Z",
     "iopub.status.busy": "2025-04-17T18:37:59.201006Z",
     "iopub.status.idle": "2025-04-17T18:38:00.773675Z",
     "shell.execute_reply": "2025-04-17T18:38:00.772671Z"
    },
    "papermill": {
     "duration": 1.578779,
     "end_time": "2025-04-17T18:38:00.775445",
     "exception": false,
     "start_time": "2025-04-17T18:37:59.196666",
     "status": "completed"
    },
    "tags": []
   },
   "outputs": [],
   "source": [
    "from typing import Annotated\n",
    "from typing_extensions import TypedDict\n",
    "\n",
    "from langgraph.graph.message import add_messages\n",
    "\n",
    "class TravelBookingState(TypedDict):\n",
    "    \"\"\"State representing the user's travel booking conversation.\"\"\"\n",
    "\n",
    "    # The chat conversation. This preserves the conversation history\n",
    "    # between nodes.\n",
    "    messages: Annotated[list, add_messages]\n",
    "\n",
    "    # The user's current booking preferences.\n",
    "    booking_request: dict\n",
    "\n",
    "    # Flag indicating that the booking is completed.\n",
    "    finished: bool\n",
    "\n",
    "\n",
    "# System instruction for the Travel Booking Assistant\n",
    "TRAVELBOT_SYSINT = (\n",
    "    \"system\",\n",
    "    \"You are a TravelBookingBot, an intelligent travel assistant for Sri Lanka. A human will talk to you \"\n",
    "    \"about planning trips, and you will help them by recommending, confirming, and simulating bookings. \"\n",
    "    \"The user can request customized travel plans, such as 'Book me a 3-day surf trip in Arugam Bay under $300.' \"\n",
    "    \"\\n\\n\"\n",
    "    \"When the user makes a request:\\n\"\n",
    "    \"- Break it down to identify destination, duration, activity type, and budget.\\n\"\n",
    "    \"- Use retrieve_packages to search available travel options (or dummy data).\\n\"\n",
    "    \"- Match options based on user preferences and present top choices.\\n\"\n",
    "    \"- Confirm the trip details with the user before simulating booking using book_trip.\\n\\n\"\n",
    "    \"You can also clear a request with clear_booking, or retrieve the current status with get_booking_request.\\n\"\n",
    "    \"Be polite, helpful, and focused only on Sri Lankan travel-related questions.\\n\\n\"\n",
    "    \"Once the user confirms, simulate the booking using book_trip, thank them, and finish the conversation.\\n\"\n",
    "    \"If any functions aren't implemented yet, inform the user they're still under development.\"\n",
    ")\n",
    "\n",
    "# Initial greeting message for the travel assistant\n",
    "WELCOME_MSG = \"Ayubowan! I’m your Sri Lankan Travel Buddy. Type `q` to quit. How can I help you plan your next adventure?\"\n"
   ]
  },
  {
   "cell_type": "code",
   "execution_count": 4,
   "id": "8ff153c2",
   "metadata": {
    "execution": {
     "iopub.execute_input": "2025-04-17T18:38:00.783149Z",
     "iopub.status.busy": "2025-04-17T18:38:00.782655Z",
     "iopub.status.idle": "2025-04-17T18:38:01.866366Z",
     "shell.execute_reply": "2025-04-17T18:38:01.865628Z"
    },
    "papermill": {
     "duration": 1.089416,
     "end_time": "2025-04-17T18:38:01.868119",
     "exception": false,
     "start_time": "2025-04-17T18:38:00.778703",
     "status": "completed"
    },
    "tags": []
   },
   "outputs": [],
   "source": [
    "from langgraph.graph import StateGraph, START, END\n",
    "from langchain_google_genai import ChatGoogleGenerativeAI\n",
    "\n",
    "# Use Gemini 2.0 flash model\n",
    "llm = ChatGoogleGenerativeAI(model=\"gemini-2.0-flash\")\n",
    "\n",
    "# --- REPLACE: chatbot and graph setup for travel booking ---\n",
    "\n",
    "def travel_chatbot(state: TravelBookingState) -> TravelBookingState:\n",
    "    \"\"\"Travel chatbot using Gemini to handle booking conversations.\"\"\"\n",
    "    message_history = [TRAVELBOT_SYSINT] + state[\"messages\"]\n",
    "    response = llm.invoke(message_history)\n",
    "    return {\n",
    "        \"messages\": [response],\n",
    "        \"booking_request\": state.get(\"booking_request\", {}),\n",
    "        \"finished\": False\n",
    "    }\n",
    "\n",
    "# Set up the LangGraph using the new travel booking state\n",
    "graph_builder = StateGraph(TravelBookingState)\n",
    "\n",
    "# Add the chatbot node (renamed for clarity)\n",
    "graph_builder.add_node(\"travel_chatbot\", travel_chatbot)\n",
    "\n",
    "# Define entrypoint and basic flow\n",
    "graph_builder.set_entry_point(\"travel_chatbot\")\n",
    "graph_builder.add_edge(START, \"travel_chatbot\")\n",
    "\n",
    "# This could lead to another node or loop, but we'll end it here for now\n",
    "graph_builder.add_edge(\"travel_chatbot\", END)\n",
    "\n",
    "# Compile the graph\n",
    "travel_chat_graph = graph_builder.compile()\n",
    "\n"
   ]
  },
  {
   "cell_type": "code",
   "execution_count": 5,
   "id": "39d89d9e",
   "metadata": {
    "execution": {
     "iopub.execute_input": "2025-04-17T18:38:01.875629Z",
     "iopub.status.busy": "2025-04-17T18:38:01.875189Z",
     "iopub.status.idle": "2025-04-17T18:38:01.885469Z",
     "shell.execute_reply": "2025-04-17T18:38:01.884618Z"
    },
    "papermill": {
     "duration": 0.015606,
     "end_time": "2025-04-17T18:38:01.886863",
     "exception": false,
     "start_time": "2025-04-17T18:38:01.871257",
     "status": "completed"
    },
    "tags": []
   },
   "outputs": [],
   "source": [
    "from langchain_core.messages.ai import AIMessage\n",
    "\n",
    "def human_node(state: TravelBookingState) -> TravelBookingState:\n",
    "    \"\"\"Displays model message to user, takes user input.\"\"\"\n",
    "    last_msg = state[\"messages\"][-1]\n",
    "    print(\"Model:\", last_msg.content)\n",
    "\n",
    "    user_input = input(\"User: \")\n",
    "\n",
    "    if user_input.lower() in {\"q\", \"quit\", \"exit\", \"goodbye\"}:\n",
    "        state[\"finished\"] = True\n",
    "\n",
    "    return state | {\"messages\": [(\"user\", user_input)]}\n",
    "\n",
    "\n",
    "def travel_chatbot_with_welcome(state: TravelBookingState) -> TravelBookingState:\n",
    "    \"\"\"Chatbot entry that shows welcome message if first turn, else continues conversation.\"\"\"\n",
    "    if state[\"messages\"]:\n",
    "        new_output = llm.invoke([TRAVELBOT_SYSINT] + state[\"messages\"])\n",
    "    else:\n",
    "        new_output = AIMessage(content=WELCOME_MSG)\n",
    "\n",
    "    return state | {\"messages\": [new_output]}\n",
    "\n",
    "\n",
    "# Build the new looped graph\n",
    "graph_builder = StateGraph(TravelBookingState)\n",
    "\n",
    "# Add chatbot and human interaction nodes\n",
    "graph_builder.add_node(\"travel_chatbot\", travel_chatbot_with_welcome)\n",
    "graph_builder.add_node(\"human\", human_node)\n",
    "\n",
    "# Start at chatbot, then always go to human, and repeat\n",
    "graph_builder.add_edge(START, \"travel_chatbot\")\n",
    "graph_builder.add_edge(\"travel_chatbot\", \"human\")\n",
    "graph_builder.add_edge(\"human\", \"travel_chatbot\")  # loop continues\n",
    "\n",
    "# Define how to end\n",
    "#graph_builder.set_finish_condition(lambda state: state.get(\"finished\") is True)\n",
    "\n",
    "# Compile the final travel chat loop\n",
    "travel_loop_graph = graph_builder.compile()\n"
   ]
  },
  {
   "cell_type": "code",
   "execution_count": 6,
   "id": "f65a58ec",
   "metadata": {
    "execution": {
     "iopub.execute_input": "2025-04-17T18:38:01.893990Z",
     "iopub.status.busy": "2025-04-17T18:38:01.893634Z",
     "iopub.status.idle": "2025-04-17T18:38:01.900853Z",
     "shell.execute_reply": "2025-04-17T18:38:01.900087Z"
    },
    "papermill": {
     "duration": 0.012384,
     "end_time": "2025-04-17T18:38:01.902344",
     "exception": false,
     "start_time": "2025-04-17T18:38:01.889960",
     "status": "completed"
    },
    "tags": []
   },
   "outputs": [],
   "source": [
    "from typing import Literal\n",
    "\n",
    "def maybe_exit_human_node(state: TravelBookingState) -> Literal[\"travel_chatbot\", \"__end__\"]:\n",
    "    \"\"\"Route to chatbot or end depending on user exit intent.\"\"\"\n",
    "    if state.get(\"finished\", False):\n",
    "        return END\n",
    "    else:\n",
    "        return \"travel_chatbot\"\n",
    "\n",
    "graph_builder.add_conditional_edges(\"human\", maybe_exit_human_node)\n",
    "\n",
    "# Compile graph with conditional edge\n",
    "chat_with_human_graph = graph_builder.compile()\n",
    "\n",
    "# Visualize the conversation flow\n",
    "#Image(chat_with_human_graph.get_graph().draw_mermaid_png())\n"
   ]
  },
  {
   "cell_type": "code",
   "execution_count": 7,
   "id": "48c99c9f",
   "metadata": {
    "execution": {
     "iopub.execute_input": "2025-04-17T18:38:01.910846Z",
     "iopub.status.busy": "2025-04-17T18:38:01.910507Z",
     "iopub.status.idle": "2025-04-17T18:38:01.921577Z",
     "shell.execute_reply": "2025-04-17T18:38:01.920721Z"
    },
    "papermill": {
     "duration": 0.016492,
     "end_time": "2025-04-17T18:38:01.923231",
     "exception": false,
     "start_time": "2025-04-17T18:38:01.906739",
     "status": "completed"
    },
    "tags": []
   },
   "outputs": [],
   "source": [
    "from langchain_core.tools import tool\n",
    "\n",
    "@tool\n",
    "def get_packages(destination: str, max_budget: int) -> str:\n",
    "    \"\"\"Retrieve available travel packages for a given destination and budget.\"\"\"\n",
    "\n",
    "    # Dummy packages database (could be from a real DB in future)\n",
    "    packages = {\n",
    "        \"arugam bay\": [\n",
    "            {\"title\": \"Surf & Chill 3-Day Tour\", \"price\": 280, \"details\": \"Includes surf lessons, 2 nights hotel, and transport.\"},\n",
    "            {\"title\": \"Budget Surf Hostel Experience\", \"price\": 190, \"details\": \"Shared hostel, surfboard rental, and beach BBQ.\"},\n",
    "            {\"title\": \"Luxury Surf Retreat\", \"price\": 450, \"details\": \"4-star hotel, private instructor, meals included.\"}\n",
    "        ],\n",
    "        \"ella\": [\n",
    "            {\"title\": \"Ella Hiking Adventure\", \"price\": 150, \"details\": \"2 nights guesthouse, Ella Rock and 9 Arch Hike.\"},\n",
    "            {\"title\": \"Luxury Mountain Getaway\", \"price\": 300, \"details\": \"3 nights boutique stay, guided treks, breakfast included.\"}\n",
    "        ]\n",
    "    }\n",
    "\n",
    "    # Normalize destination\n",
    "    dest = destination.lower()\n",
    "\n",
    "    if dest not in packages:\n",
    "        return f\"Sorry, we currently have no packages listed for {destination.title()}.\"\n",
    "\n",
    "    # Filter packages under budget\n",
    "    matching = [pkg for pkg in packages[dest] if pkg[\"price\"] <= max_budget]\n",
    "\n",
    "    if not matching:\n",
    "        return f\"No available packages under ${max_budget} for {destination.title()}.\"\n",
    "\n",
    "    # Format result\n",
    "    result = f\"Packages available for {destination.title()} under ${max_budget}:\\n\"\n",
    "    for pkg in matching:\n",
    "        result += f\"\\n- {pkg['title']} (${pkg['price']}): {pkg['details']}\"\n",
    "\n",
    "    return result\n"
   ]
  },
  {
   "cell_type": "code",
   "execution_count": 8,
   "id": "c25a55fd",
   "metadata": {
    "execution": {
     "iopub.execute_input": "2025-04-17T18:38:01.930637Z",
     "iopub.status.busy": "2025-04-17T18:38:01.930328Z",
     "iopub.status.idle": "2025-04-17T18:38:01.952919Z",
     "shell.execute_reply": "2025-04-17T18:38:01.952042Z"
    },
    "papermill": {
     "duration": 0.028922,
     "end_time": "2025-04-17T18:38:01.955311",
     "exception": false,
     "start_time": "2025-04-17T18:38:01.926389",
     "status": "completed"
    },
    "tags": []
   },
   "outputs": [],
   "source": [
    "from langgraph.prebuilt import ToolNode\n",
    "\n",
    "# Define the tools (get_packages instead of get_menu)\n",
    "tools = [get_packages]\n",
    "tool_node = ToolNode(tools)\n",
    "\n",
    "# Bind the tool to the model\n",
    "llm_with_tools = llm.bind_tools(tools)\n",
    "\n",
    "def maybe_route_to_tools(state: TravelBookingState) -> Literal[\"tools\", \"human\"]:\n",
    "    \"\"\"Route between human or tool nodes, depending on tool calls.\"\"\"\n",
    "    if not (msgs := state.get(\"messages\", [])):\n",
    "        raise ValueError(f\"No messages found when parsing state: {state}\")\n",
    "\n",
    "    msg = msgs[-1]\n",
    "\n",
    "    if hasattr(msg, \"tool_calls\") and len(msg.tool_calls) > 0:\n",
    "        return \"tools\"\n",
    "    else:\n",
    "        return \"human\"\n",
    "\n",
    "def travel_chatbot_with_tools(state: TravelBookingState) -> TravelBookingState:\n",
    "    \"\"\"Chatbot that interacts with tools (get travel packages).\"\"\"\n",
    "    defaults = {\"booking_request\": {}, \"finished\": False}\n",
    "\n",
    "    if state[\"messages\"]:\n",
    "        new_output = llm_with_tools.invoke([TRAVELBOT_SYSINT] + state[\"messages\"])\n",
    "    else:\n",
    "        new_output = AIMessage(content=WELCOME_MSG)\n",
    "\n",
    "    return defaults | state | {\"messages\": [new_output]}\n",
    "\n",
    "# Build the travel booking conversation graph\n",
    "graph_builder = StateGraph(TravelBookingState)\n",
    "\n",
    "# Add the travel chatbot, human, and tools nodes\n",
    "graph_builder.add_node(\"travel_chatbot\", travel_chatbot_with_tools)\n",
    "graph_builder.add_node(\"human\", human_node)\n",
    "graph_builder.add_node(\"tools\", tool_node)\n",
    "\n",
    "# Conditional routing\n",
    "graph_builder.add_conditional_edges(\"travel_chatbot\", maybe_route_to_tools)\n",
    "graph_builder.add_conditional_edges(\"human\", maybe_exit_human_node)\n",
    "\n",
    "# Tools always route back to the chatbot\n",
    "graph_builder.add_edge(\"tools\", \"travel_chatbot\")\n",
    "\n",
    "# Start at the chatbot node\n",
    "graph_builder.add_edge(START, \"travel_chatbot\")\n",
    "\n",
    "# Compile the graph\n",
    "travel_graph_with_tools = graph_builder.compile()\n",
    "\n",
    "# Visualize the flow\n",
    "#Image(travel_graph_with_tools.get_graph().draw_mermaid_png())\n"
   ]
  },
  {
   "cell_type": "code",
   "execution_count": 9,
   "id": "19c81069",
   "metadata": {
    "execution": {
     "iopub.execute_input": "2025-04-17T18:38:01.963308Z",
     "iopub.status.busy": "2025-04-17T18:38:01.962944Z",
     "iopub.status.idle": "2025-04-17T18:38:02.107684Z",
     "shell.execute_reply": "2025-04-17T18:38:02.106399Z"
    },
    "papermill": {
     "duration": 0.150644,
     "end_time": "2025-04-17T18:38:02.109158",
     "exception": true,
     "start_time": "2025-04-17T18:38:01.958514",
     "status": "failed"
    },
    "tags": []
   },
   "outputs": [
    {
     "name": "stdout",
     "output_type": "stream",
     "text": [
      "Model: Ayubowan! I’m your Sri Lankan Travel Buddy. Type `q` to quit. How can I help you plan your next adventure?\n"
     ]
    },
    {
     "ename": "StdinNotImplementedError",
     "evalue": "raw_input was called, but this frontend does not support input requests.",
     "output_type": "error",
     "traceback": [
      "\u001b[0;31m---------------------------------------------------------------------------\u001b[0m",
      "\u001b[0;31mStdinNotImplementedError\u001b[0m                  Traceback (most recent call last)",
      "\u001b[0;32m/tmp/ipykernel_13/3286108963.py\u001b[0m in \u001b[0;36m<cell line: 0>\u001b[0;34m()\u001b[0m\n\u001b[1;32m      8\u001b[0m \u001b[0;31m# Uncomment this line to execute the graph:\u001b[0m\u001b[0;34m\u001b[0m\u001b[0;34m\u001b[0m\u001b[0m\n\u001b[1;32m      9\u001b[0m \u001b[0;31m# Final Execution (with tool-based graph)\u001b[0m\u001b[0;34m\u001b[0m\u001b[0;34m\u001b[0m\u001b[0m\n\u001b[0;32m---> 10\u001b[0;31m \u001b[0mstate\u001b[0m \u001b[0;34m=\u001b[0m \u001b[0mtravel_graph_with_tools\u001b[0m\u001b[0;34m.\u001b[0m\u001b[0minvoke\u001b[0m\u001b[0;34m(\u001b[0m\u001b[0;34m{\u001b[0m\u001b[0;34m\"messages\"\u001b[0m\u001b[0;34m:\u001b[0m \u001b[0;34m[\u001b[0m\u001b[0;34m]\u001b[0m\u001b[0;34m}\u001b[0m\u001b[0;34m,\u001b[0m \u001b[0mconfig\u001b[0m\u001b[0;34m)\u001b[0m\u001b[0;34m\u001b[0m\u001b[0;34m\u001b[0m\u001b[0m\n\u001b[0m\u001b[1;32m     11\u001b[0m \u001b[0;34m\u001b[0m\u001b[0m\n\u001b[1;32m     12\u001b[0m \u001b[0;34m\u001b[0m\u001b[0m\n",
      "\u001b[0;32m/usr/local/lib/python3.11/dist-packages/langgraph/pregel/__init__.py\u001b[0m in \u001b[0;36minvoke\u001b[0;34m(self, input, config, stream_mode, output_keys, interrupt_before, interrupt_after, debug, **kwargs)\u001b[0m\n\u001b[1;32m   2681\u001b[0m         \u001b[0;32melse\u001b[0m\u001b[0;34m:\u001b[0m\u001b[0;34m\u001b[0m\u001b[0;34m\u001b[0m\u001b[0m\n\u001b[1;32m   2682\u001b[0m             \u001b[0mchunks\u001b[0m \u001b[0;34m=\u001b[0m \u001b[0;34m[\u001b[0m\u001b[0;34m]\u001b[0m\u001b[0;34m\u001b[0m\u001b[0;34m\u001b[0m\u001b[0m\n\u001b[0;32m-> 2683\u001b[0;31m         for chunk in self.stream(\n\u001b[0m\u001b[1;32m   2684\u001b[0m             \u001b[0minput\u001b[0m\u001b[0;34m,\u001b[0m\u001b[0;34m\u001b[0m\u001b[0;34m\u001b[0m\u001b[0m\n\u001b[1;32m   2685\u001b[0m             \u001b[0mconfig\u001b[0m\u001b[0;34m,\u001b[0m\u001b[0;34m\u001b[0m\u001b[0;34m\u001b[0m\u001b[0m\n",
      "\u001b[0;32m/usr/local/lib/python3.11/dist-packages/langgraph/pregel/__init__.py\u001b[0m in \u001b[0;36mstream\u001b[0;34m(self, input, config, stream_mode, output_keys, interrupt_before, interrupt_after, debug, subgraphs)\u001b[0m\n\u001b[1;32m   2329\u001b[0m                 \u001b[0;31m# with channel updates applied only at the transition between steps.\u001b[0m\u001b[0;34m\u001b[0m\u001b[0;34m\u001b[0m\u001b[0m\n\u001b[1;32m   2330\u001b[0m                 \u001b[0;32mwhile\u001b[0m \u001b[0mloop\u001b[0m\u001b[0;34m.\u001b[0m\u001b[0mtick\u001b[0m\u001b[0;34m(\u001b[0m\u001b[0minput_keys\u001b[0m\u001b[0;34m=\u001b[0m\u001b[0mself\u001b[0m\u001b[0;34m.\u001b[0m\u001b[0minput_channels\u001b[0m\u001b[0;34m)\u001b[0m\u001b[0;34m:\u001b[0m\u001b[0;34m\u001b[0m\u001b[0;34m\u001b[0m\u001b[0m\n\u001b[0;32m-> 2331\u001b[0;31m                     for _ in runner.tick(\n\u001b[0m\u001b[1;32m   2332\u001b[0m                         \u001b[0mloop\u001b[0m\u001b[0;34m.\u001b[0m\u001b[0mtasks\u001b[0m\u001b[0;34m.\u001b[0m\u001b[0mvalues\u001b[0m\u001b[0;34m(\u001b[0m\u001b[0;34m)\u001b[0m\u001b[0;34m,\u001b[0m\u001b[0;34m\u001b[0m\u001b[0;34m\u001b[0m\u001b[0m\n\u001b[1;32m   2333\u001b[0m                         \u001b[0mtimeout\u001b[0m\u001b[0;34m=\u001b[0m\u001b[0mself\u001b[0m\u001b[0;34m.\u001b[0m\u001b[0mstep_timeout\u001b[0m\u001b[0;34m,\u001b[0m\u001b[0;34m\u001b[0m\u001b[0;34m\u001b[0m\u001b[0m\n",
      "\u001b[0;32m/usr/local/lib/python3.11/dist-packages/langgraph/pregel/runner.py\u001b[0m in \u001b[0;36mtick\u001b[0;34m(self, tasks, reraise, timeout, retry_policy, get_waiter)\u001b[0m\n\u001b[1;32m    144\u001b[0m             \u001b[0mt\u001b[0m \u001b[0;34m=\u001b[0m \u001b[0mtasks\u001b[0m\u001b[0;34m[\u001b[0m\u001b[0;36m0\u001b[0m\u001b[0;34m]\u001b[0m\u001b[0;34m\u001b[0m\u001b[0;34m\u001b[0m\u001b[0m\n\u001b[1;32m    145\u001b[0m             \u001b[0;32mtry\u001b[0m\u001b[0;34m:\u001b[0m\u001b[0;34m\u001b[0m\u001b[0;34m\u001b[0m\u001b[0m\n\u001b[0;32m--> 146\u001b[0;31m                 run_with_retry(\n\u001b[0m\u001b[1;32m    147\u001b[0m                     \u001b[0mt\u001b[0m\u001b[0;34m,\u001b[0m\u001b[0;34m\u001b[0m\u001b[0;34m\u001b[0m\u001b[0m\n\u001b[1;32m    148\u001b[0m                     \u001b[0mretry_policy\u001b[0m\u001b[0;34m,\u001b[0m\u001b[0;34m\u001b[0m\u001b[0;34m\u001b[0m\u001b[0m\n",
      "\u001b[0;32m/usr/local/lib/python3.11/dist-packages/langgraph/pregel/retry.py\u001b[0m in \u001b[0;36mrun_with_retry\u001b[0;34m(task, retry_policy, configurable)\u001b[0m\n\u001b[1;32m     38\u001b[0m             \u001b[0mtask\u001b[0m\u001b[0;34m.\u001b[0m\u001b[0mwrites\u001b[0m\u001b[0;34m.\u001b[0m\u001b[0mclear\u001b[0m\u001b[0;34m(\u001b[0m\u001b[0;34m)\u001b[0m\u001b[0;34m\u001b[0m\u001b[0;34m\u001b[0m\u001b[0m\n\u001b[1;32m     39\u001b[0m             \u001b[0;31m# run the task\u001b[0m\u001b[0;34m\u001b[0m\u001b[0;34m\u001b[0m\u001b[0m\n\u001b[0;32m---> 40\u001b[0;31m             \u001b[0;32mreturn\u001b[0m \u001b[0mtask\u001b[0m\u001b[0;34m.\u001b[0m\u001b[0mproc\u001b[0m\u001b[0;34m.\u001b[0m\u001b[0minvoke\u001b[0m\u001b[0;34m(\u001b[0m\u001b[0mtask\u001b[0m\u001b[0;34m.\u001b[0m\u001b[0minput\u001b[0m\u001b[0;34m,\u001b[0m \u001b[0mconfig\u001b[0m\u001b[0;34m)\u001b[0m\u001b[0;34m\u001b[0m\u001b[0;34m\u001b[0m\u001b[0m\n\u001b[0m\u001b[1;32m     41\u001b[0m         \u001b[0;32mexcept\u001b[0m \u001b[0mParentCommand\u001b[0m \u001b[0;32mas\u001b[0m \u001b[0mexc\u001b[0m\u001b[0;34m:\u001b[0m\u001b[0;34m\u001b[0m\u001b[0;34m\u001b[0m\u001b[0m\n\u001b[1;32m     42\u001b[0m             \u001b[0mns\u001b[0m\u001b[0;34m:\u001b[0m \u001b[0mstr\u001b[0m \u001b[0;34m=\u001b[0m \u001b[0mconfig\u001b[0m\u001b[0;34m[\u001b[0m\u001b[0mCONF\u001b[0m\u001b[0;34m]\u001b[0m\u001b[0;34m[\u001b[0m\u001b[0mCONFIG_KEY_CHECKPOINT_NS\u001b[0m\u001b[0;34m]\u001b[0m\u001b[0;34m\u001b[0m\u001b[0;34m\u001b[0m\u001b[0m\n",
      "\u001b[0;32m/usr/local/lib/python3.11/dist-packages/langgraph/utils/runnable.py\u001b[0m in \u001b[0;36minvoke\u001b[0;34m(self, input, config, **kwargs)\u001b[0m\n\u001b[1;32m    604\u001b[0m                 )\n\u001b[1;32m    605\u001b[0m                 \u001b[0;32mif\u001b[0m \u001b[0mi\u001b[0m \u001b[0;34m==\u001b[0m \u001b[0;36m0\u001b[0m\u001b[0;34m:\u001b[0m\u001b[0;34m\u001b[0m\u001b[0;34m\u001b[0m\u001b[0m\n\u001b[0;32m--> 606\u001b[0;31m                     \u001b[0minput\u001b[0m \u001b[0;34m=\u001b[0m \u001b[0mstep\u001b[0m\u001b[0;34m.\u001b[0m\u001b[0minvoke\u001b[0m\u001b[0;34m(\u001b[0m\u001b[0minput\u001b[0m\u001b[0;34m,\u001b[0m \u001b[0mconfig\u001b[0m\u001b[0;34m,\u001b[0m \u001b[0;34m**\u001b[0m\u001b[0mkwargs\u001b[0m\u001b[0;34m)\u001b[0m\u001b[0;34m\u001b[0m\u001b[0;34m\u001b[0m\u001b[0m\n\u001b[0m\u001b[1;32m    607\u001b[0m                 \u001b[0;32melse\u001b[0m\u001b[0;34m:\u001b[0m\u001b[0;34m\u001b[0m\u001b[0;34m\u001b[0m\u001b[0m\n\u001b[1;32m    608\u001b[0m                     \u001b[0minput\u001b[0m \u001b[0;34m=\u001b[0m \u001b[0mstep\u001b[0m\u001b[0;34m.\u001b[0m\u001b[0minvoke\u001b[0m\u001b[0;34m(\u001b[0m\u001b[0minput\u001b[0m\u001b[0;34m,\u001b[0m \u001b[0mconfig\u001b[0m\u001b[0;34m)\u001b[0m\u001b[0;34m\u001b[0m\u001b[0;34m\u001b[0m\u001b[0m\n",
      "\u001b[0;32m/usr/local/lib/python3.11/dist-packages/langgraph/utils/runnable.py\u001b[0m in \u001b[0;36minvoke\u001b[0;34m(self, input, config, **kwargs)\u001b[0m\n\u001b[1;32m    369\u001b[0m         \u001b[0;32melse\u001b[0m\u001b[0;34m:\u001b[0m\u001b[0;34m\u001b[0m\u001b[0;34m\u001b[0m\u001b[0m\n\u001b[1;32m    370\u001b[0m             \u001b[0;32mwith\u001b[0m \u001b[0mset_config_context\u001b[0m\u001b[0;34m(\u001b[0m\u001b[0mconfig\u001b[0m\u001b[0;34m)\u001b[0m \u001b[0;32mas\u001b[0m \u001b[0mcontext\u001b[0m\u001b[0;34m:\u001b[0m\u001b[0;34m\u001b[0m\u001b[0;34m\u001b[0m\u001b[0m\n\u001b[0;32m--> 371\u001b[0;31m                 \u001b[0mret\u001b[0m \u001b[0;34m=\u001b[0m \u001b[0mcontext\u001b[0m\u001b[0;34m.\u001b[0m\u001b[0mrun\u001b[0m\u001b[0;34m(\u001b[0m\u001b[0mself\u001b[0m\u001b[0;34m.\u001b[0m\u001b[0mfunc\u001b[0m\u001b[0;34m,\u001b[0m \u001b[0;34m*\u001b[0m\u001b[0margs\u001b[0m\u001b[0;34m,\u001b[0m \u001b[0;34m**\u001b[0m\u001b[0mkwargs\u001b[0m\u001b[0;34m)\u001b[0m\u001b[0;34m\u001b[0m\u001b[0;34m\u001b[0m\u001b[0m\n\u001b[0m\u001b[1;32m    372\u001b[0m         \u001b[0;32mif\u001b[0m \u001b[0misinstance\u001b[0m\u001b[0;34m(\u001b[0m\u001b[0mret\u001b[0m\u001b[0;34m,\u001b[0m \u001b[0mRunnable\u001b[0m\u001b[0;34m)\u001b[0m \u001b[0;32mand\u001b[0m \u001b[0mself\u001b[0m\u001b[0;34m.\u001b[0m\u001b[0mrecurse\u001b[0m\u001b[0;34m:\u001b[0m\u001b[0;34m\u001b[0m\u001b[0;34m\u001b[0m\u001b[0m\n\u001b[1;32m    373\u001b[0m             \u001b[0;32mreturn\u001b[0m \u001b[0mret\u001b[0m\u001b[0;34m.\u001b[0m\u001b[0minvoke\u001b[0m\u001b[0;34m(\u001b[0m\u001b[0minput\u001b[0m\u001b[0;34m,\u001b[0m \u001b[0mconfig\u001b[0m\u001b[0;34m)\u001b[0m\u001b[0;34m\u001b[0m\u001b[0;34m\u001b[0m\u001b[0m\n",
      "\u001b[0;32m/tmp/ipykernel_13/2792363260.py\u001b[0m in \u001b[0;36mhuman_node\u001b[0;34m(state)\u001b[0m\n\u001b[1;32m      6\u001b[0m     \u001b[0mprint\u001b[0m\u001b[0;34m(\u001b[0m\u001b[0;34m\"Model:\"\u001b[0m\u001b[0;34m,\u001b[0m \u001b[0mlast_msg\u001b[0m\u001b[0;34m.\u001b[0m\u001b[0mcontent\u001b[0m\u001b[0;34m)\u001b[0m\u001b[0;34m\u001b[0m\u001b[0;34m\u001b[0m\u001b[0m\n\u001b[1;32m      7\u001b[0m \u001b[0;34m\u001b[0m\u001b[0m\n\u001b[0;32m----> 8\u001b[0;31m     \u001b[0muser_input\u001b[0m \u001b[0;34m=\u001b[0m \u001b[0minput\u001b[0m\u001b[0;34m(\u001b[0m\u001b[0;34m\"User: \"\u001b[0m\u001b[0;34m)\u001b[0m\u001b[0;34m\u001b[0m\u001b[0;34m\u001b[0m\u001b[0m\n\u001b[0m\u001b[1;32m      9\u001b[0m \u001b[0;34m\u001b[0m\u001b[0m\n\u001b[1;32m     10\u001b[0m     \u001b[0;32mif\u001b[0m \u001b[0muser_input\u001b[0m\u001b[0;34m.\u001b[0m\u001b[0mlower\u001b[0m\u001b[0;34m(\u001b[0m\u001b[0;34m)\u001b[0m \u001b[0;32min\u001b[0m \u001b[0;34m{\u001b[0m\u001b[0;34m\"q\"\u001b[0m\u001b[0;34m,\u001b[0m \u001b[0;34m\"quit\"\u001b[0m\u001b[0;34m,\u001b[0m \u001b[0;34m\"exit\"\u001b[0m\u001b[0;34m,\u001b[0m \u001b[0;34m\"goodbye\"\u001b[0m\u001b[0;34m}\u001b[0m\u001b[0;34m:\u001b[0m\u001b[0;34m\u001b[0m\u001b[0;34m\u001b[0m\u001b[0m\n",
      "\u001b[0;32m/usr/local/lib/python3.11/dist-packages/ipykernel/kernelbase.py\u001b[0m in \u001b[0;36mraw_input\u001b[0;34m(self, prompt)\u001b[0m\n\u001b[1;32m   1172\u001b[0m         \"\"\"\n\u001b[1;32m   1173\u001b[0m         \u001b[0;32mif\u001b[0m \u001b[0;32mnot\u001b[0m \u001b[0mself\u001b[0m\u001b[0;34m.\u001b[0m\u001b[0m_allow_stdin\u001b[0m\u001b[0;34m:\u001b[0m\u001b[0;34m\u001b[0m\u001b[0;34m\u001b[0m\u001b[0m\n\u001b[0;32m-> 1174\u001b[0;31m             raise StdinNotImplementedError(\n\u001b[0m\u001b[1;32m   1175\u001b[0m                 \u001b[0;34m\"raw_input was called, but this frontend does not support input requests.\"\u001b[0m\u001b[0;34m\u001b[0m\u001b[0;34m\u001b[0m\u001b[0m\n\u001b[1;32m   1176\u001b[0m             )\n",
      "\u001b[0;31mStdinNotImplementedError\u001b[0m: raw_input was called, but this frontend does not support input requests."
     ]
    }
   ],
   "source": [
    "# The default recursion limit for traversing nodes is 25 - setting it higher means\n",
    "# you can try a more complex order with multiple steps and round-trips (and you\n",
    "# can chat for longer!)\n",
    "config = {\"recursion_limit\": 100}\n",
    "\n",
    "# Remember that this will loop forever, unless you input `q`, `quit` or one of the\n",
    "# other exit terms defined in `human_node`.\n",
    "# Uncomment this line to execute the graph:\n",
    "# Final Execution (with tool-based graph)\n",
    "state = travel_graph_with_tools.invoke({\"messages\": []}, config)\n",
    "\n",
    "\n",
    "# Things to try:\n",
    "#  - Just chat! There's no ordering or menu yet.\n",
    "#  - 'q' to exit.\n",
    "\n",
    "\n",
    "# pprint(state)"
   ]
  }
 ],
 "metadata": {
  "kaggle": {
   "accelerator": "none",
   "dataSources": [],
   "dockerImageVersionId": 31012,
   "isGpuEnabled": false,
   "isInternetEnabled": true,
   "language": "python",
   "sourceType": "notebook"
  },
  "kernelspec": {
   "display_name": "Python 3",
   "language": "python",
   "name": "python3"
  },
  "language_info": {
   "codemirror_mode": {
    "name": "ipython",
    "version": 3
   },
   "file_extension": ".py",
   "mimetype": "text/x-python",
   "name": "python",
   "nbconvert_exporter": "python",
   "pygments_lexer": "ipython3",
   "version": "3.11.11"
  },
  "papermill": {
   "default_parameters": {},
   "duration": 39.161724,
   "end_time": "2025-04-17T18:38:02.932716",
   "environment_variables": {},
   "exception": true,
   "input_path": "__notebook__.ipynb",
   "output_path": "__notebook__.ipynb",
   "parameters": {},
   "start_time": "2025-04-17T18:37:23.770992",
   "version": "2.6.0"
  }
 },
 "nbformat": 4,
 "nbformat_minor": 5
}
